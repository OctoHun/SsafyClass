{
 "cells": [
  {
   "cell_type": "markdown",
   "metadata": {},
   "source": [
    "## Node.js\n",
    "- 자바스크립트는 브라우저를 조작하는 유일한 언어이지만 브라우저 밖에서는 구동 할 수 없었음.\n",
    "- 런타임 환경인 Node.js로 인해 브라우저가 아닌 환경에서도 구동할 수 있게 됨\n",
    "    - OS환경에서 실행할 수 있는 환경을 제공\n",
    "    - Browser만 조작 가능했으나 Server-Side-Programming또한 가능\n",
    "\n",
    "### NPM(Node Package Manage)\n",
    "- 자바스크립트 패키지 관리자\n",
    "    - python에 pip가 있다면 Node.js에서는 npm\n",
    "    - pip와 마찬가지로 다양한 의존성 패키지를 관리\n",
    "- Node.js의 기본 패키지 관리자(Node.js 설치 시 함께 설치됨)"
   ]
  },
  {
   "cell_type": "markdown",
   "metadata": {},
   "source": [
    "## Vue CLI\n",
    "- Vue 개발을 위한 표준 도구\n",
    "- 프로젝트의 구성을 도와주는 역할\n",
    "- 확장 플러그인, GUI, Babel등 다양한 tool 제공\n",
    "\n",
    "### Vue CLI 프로젝트 구조\n",
    "- git init이 되어있는 상태로 만들어짐(.gitignore도 만들어져있음)\n",
    "    - 단, git 레포지토리 안에 생성시 .git 폴더 없음. 즉, 알아서 해줌\n",
    "- node_modules가 python의 venv역할을 함(가상환경), 이미 gitignore에 있음\n",
    "    - git에서 받으면 node_modules가 없으므로 npm install 명령어를 사용하여 다운받아준다.\n",
    "- Babel: 자바스크립트의 컴파일러 역할(ES6+ 코드를 구버전으로 번역/변환해주는 도구), 원시코드(최신 버전)을 목적코드(구 버전)으로 옮겨서 특정 브라우저에서 동작하지 않는 상황을 크게 고민하지 않음.\n",
    "- Webpack: static modul bundler, 모듈 간의 의존성 문제를 해결하기 위한 도구, 프로젝트에 필요한 모든 모듈을 매핑하고 내부적으로 종속성 그래프를 빌드함\n",
    "- Module: 개발하는 어플리케이션의 크기가 커지고 복잡해지면 파일 하나에 모든 기능을 담기가 어려워지기때문에 여러 개로 분리하여 관리함. 각각이 모듈이며 js파일 하나가 하나의 모듈. 대개 기능 단위로 분리하며 클래스 하나 혹은 특정한 목적을 가진 복수의 함수로 구성된 라이브러리 하나로 구성됨. ESM(SCMA Script Module), AMD, CommonJS, UMD 등\n",
    "    - 모듈의 의존성 문제: 모듈의 수가 많아지고 라이브러리 혹은 모듈간에 의존성(연결성)이 깊어지면서 특정한 곳에서 발생한 문제가 어떤 모듈간의 문제인지 파악하기 어려움.\n",
    "    - Webpack은 이 모듈간의 의존성 문제를 해결하기 위해 등장\n",
    "- Bundler: 모듈 의존성 문제를 해결해주는 작업이 Bundling, Webpack은 다양한 Bundler중 하나. 모듈들을 하나로 묶어주고 묶인 파일은 하나(혹은 여러개)로 만들어짐. 결과물은 개별 모듈의 실행 순서에 영향을 받지 않고 동작.\n",
    "- package.json: 프로젝트의 종속성 목록과 지원되는 브라우저에 대한 구성 옵션을 포함\n",
    "- package-lock.json: node_modules에 설치되는 모듈과 관련된 모든 의존성을 설정 및 관리(python의 rewuirements.txt역할), 협업 및 배포 환경에서 동일한 종속성을 설치하도록 보장, 개발 과정간의 의존성 패키지 충돌 방지\n",
    "- config파일들: 설정\n",
    "\n",
    "#### public\n",
    "- favicon: 탭의 아이콘\n",
    "- index.html: 이 페이지 하나로 출력\n",
    "\n",
    "#### src\n",
    "- assets: 정적 파일을 저장하는 디렉토리\n",
    "- componenets: 하위 컴포넌트들의 위치\n",
    "- App.vue: 최상위 컴포넌트, public/index.html과 연결되어 있음(<div id='app'>)\n",
    "- main.js: webpack이 빌드를 시작할때 가장 먼저 불러오는 entry point, public/index.html과 src/App.vue를 연결시키는 작업이 이루어지는 곳\n",
    "- Vue 전역에서 활용 할 모듈을 등록할 수 있는 파일\n"
   ]
  },
  {
   "cell_type": "markdown",
   "metadata": {},
   "source": [
    "## SRC\n",
    "\n",
    "### Component\n",
    "- UI를 독립적이고 재사용 가능한 조각들로 나눈 것. 기능별로 분화한 코드조각\n",
    "- CS에서는 다시 사용할 수 있는 범용성을위해 개발된 소프트웨어 구성 요소를 의미\n",
    "- 하나의 app을 구성할 때 중첩된 컴포넌트들의 tree로 구성하는것이 보편적\n",
    "    - web시간에 배운 HTML 요소들의 중첩\n",
    "    - Body tag를 root node로 하는 tree 구조\n",
    "    - 마찬가지로 vue에서는 src/app.vue를 root node로 하는 tree의 구조를 가짐\n",
    "    - 컴포넌트는 유지보수를 쉽게 만들어 줄 뿐만 아니라 재사용성 측면에서도 강력한 기능 제공\n",
    "\n",
    "### SFC\n",
    "- vue에서 말하는 componenet란 이름이 있는 재사용 가능한 vue instance\n",
    "- vue instance란 앞서 수업에서 사용한 new Vue()로 만든 인스턴스\n",
    "- SFC(Single File Component)\n",
    "    - 하나의 .vue 파일이 하나의 vue instance이고 하나의 컴포넌트이다.\n",
    "    - vue instance에서는 HTML CSS JavaScript코드를 한번에 관리, 이 vue instance를 기능 단위로 작성하는 것이 핵심\n",
    "    - 컴포넌트 기반 개발의 핵심 기능\n",
    "\n",
    "### Vue component\n",
    "- 템플릿(HTML)\n",
    "    - HTML의 body 부분\n",
    "    - 눈으로 보여지는 요소 작성\n",
    "    - 다른 컴포넌트를 HTML요소처럼 추가 가능\n",
    "- 스크립트(JavaScript)\n",
    "    - JS코드가 작성되는 곳\n",
    "    - 컴포넌트 정보, 데이터, 메서드 등 vue인스턴스를 구성하는 대부분이 작성 됨\n",
    "- 스타일(CSS)\n",
    "    - CSS가 작성되며 컴포넌트의 스타일을 담당"
   ]
  },
  {
   "cell_type": "markdown",
   "metadata": {},
   "source": [
    "## Vue component 실습\n",
    "\n",
    "- 현재 구조: Vue CLI를 실행하면 이미 HelloWorld.vue라는 컴포넌트가 생성되어 있고 App.vue에 등록되어 사용되고 있음\n",
    "- src/components에 파일 만들고 script에 이름 등록, template에 최상위 요소 추가\n",
    "    - 주의) template 안에는 반드시 하나의 요소만 추가 가능, 비어있어도 안되고 꼭 하나만 작성해야 함\n",
    "- component 등록 3단계: App.vue에서 불러오기, 등록하기, 보여주기"
   ]
  },
  {
   "cell_type": "markdown",
   "metadata": {},
   "source": [
    "# https://vue2.hphk.io/"
   ]
  },
  {
   "cell_type": "markdown",
   "metadata": {},
   "source": [
    "## 뷰 라이프 사이클\n",
    "\n",
    "1. created : 뷰 인스턴스 초기화 단계\n",
    "    - 뷰의 컴포넌트에는 접근이 불가능한 단계\n",
    "    - 화면에 데이터만 초기화를 한다.\n",
    "    - 실행 순서 : 상위 컴포넌트 -> 하위 컴포넌트\n",
    "\n",
    "2. mounted : 뷰의 컴포넌트를 렌더링하는 단계\n",
    "    - 컴포넌트에 접근이 가능해진다.\n",
    "    - 실행 순서 : 하위 컴포넌트 -> 상위 컴포넌트\n",
    "\n",
    "3. updated : 컴포넌트의 속성들에서 변경이 일어났다거나 또는 어떤 이유로 컴포넌트의 재 렌더링이 일어난 경우에 실행\n",
    "\n",
    "4. destroyed : 뷰 인스턴스가 제거되는 단계"
   ]
  },
  {
   "cell_type": "markdown",
   "metadata": {},
   "source": [
    "## Pass Props & Emit Events\n",
    "\n",
    "### Data in components\n",
    "- 우리는 정적 웹페이지가 아닌, 동적 웹페이지를 만들고 있음\n",
    "- 상위에서 정의된 데이터를 어떻게 하위에서 사용할 수 있을까\n",
    "    - 같은 데이터를 정의하면 한 쪽이 변경되었을때 다른 쪽은 변경되지 않는다. 즉, 서로 다른데이터를 갖게 된다.\n",
    "- 컴포넌트를 부모-자식 관계를 가지므로 부모-자식 관계만 데이터를 주고받게 한다.\n",
    "    - 데이터의 흐름 파악 용이\n",
    "    - 유지 보수 쉬워짐\n",
    "- 부모 => 자식으로의 데이터 흐름 : pass props의 방식\n",
    "- 자식 => 부모로의 데이터의 흐름 : emit event의 방식\n",
    "\n",
    "#### pass props\n",
    "- 요소의 속성(property)을 사용하여 데이터 전달\n",
    "- props는 부모(상위) 컴포넌트의 정보를 전달하기 위한 사용자 지정 특성\n",
    "- 자식(하위) 컴포넌트는 props 옵션을 사용하여 수신하는 props를 명시적으로 선언해야 함\n",
    "- 이렇게 부모 => 자식으로의 daata 전달 방식을 pass props라고 함\n",
    "- 정적인 데이터를 전달하는 ㄴ경우 static props라고 명시하기도 함\n",
    "- 요소에 속성을 작성하듯이 사용 가능하여, prop-data-name=\"value\"의 형태로 데이터를 전달\n",
    "    - HTML로 보내고 JS로 받으므로\n",
    "    - 속성의 키값은 kebab-case, 받을때는 camelCase (HTML 속성명은 대소문자를 구분하지 않기 때문)\n",
    "- 데이터를 받는 쪽, 즉 하위 컴포넌트에서도 props에 대해 명시적으로 작성 해주어야 함(type)\n",
    "- 컴포넌트를 문서화 할 뿐만 아니라, 잘못된 타입이 전달되는 경우 브라우저의 자바스크립트 콘솔에서 사용자에게 경고\n",
    "\n",
    "#### Dynamic props\n",
    "- 변수를 props로 전달할 수 있음\n",
    "- v-bind directive를 사용해 데이터를 동적으로 바인딩\n",
    "- 부모 컴포넌트의 데이터가 업데이트 되면 자식 컴포넌트로 전달되는 데이터 또한 업데이트 됨\n",
    "- data는 함수의 return으로 반환해주어야 함\n",
    "- 숫자를 전달하기 위해서는 dynamic 으로 써주어야 함. bind로 묶여있어야 \"\" 안이 javascript로 인식됨\n",
    "\n",
    "#### 단방향 데이터 흐름\n",
    "- 모든 props는 부모에서 자식으로 즉 아래로 단방향 바인딩을 형성\n",
    "- 부모 속성이 업데이트 되면 자식으로 흐르지만 반대 방향은 아님\n",
    "    - 부모 컴포넌트가 업데이트될때마다 자식 컴포넌트의 모든 props들이 최신 값으로 새로고침 됨\n",
    "- 목적: 하위 컴포넌트가 실수로 상위 컴포넌트 상태를 변경하여 앱의 데이터 흐름을 이해하기 힘들게 만드는 것을 방지\n",
    "- 하위 컴포넌트에서 prop을 변경하려고 시도해서는 안되며 그렇게 하면 Vue는 콘솔에서 경고를 출력함\n",
    "\n",
    "### Emit Event\n",
    "- 부모 컴포넌트에서 자식 컴포넌트로 데이터 전달할 때는 이벤트를 방생시킴\n",
    "    1. 데이터를 이벤트 리스너의 콜백함수의 인자로 전달\n",
    "    2. 상위 컴포넌트는 해당 이벤트를 통해 데이터를 받음(this.$emit(이벤트이름, ...데이터))\n",
    "- 받는쪽이 HTML이라서 케밥케이스로 전달해줘야 함\n",
    "\n",
    "#### $emit\n",
    "- $emit('event-name') 형식으로 사용하며 해당 이벤트 이름의 이벤트가 발생했다는것을 알림\n",
    "    - $: 기존에 사용하던 변수, 메서드들과 겹치지 않게 하기 위해 사용\n",
    "\n",
    "#### emit with dynamic data\n",
    "- 똑같이 이벤트에 데이터를 함꼐 전달하고 부모 컴포넌트에서 청취하여 data 가져오기"
   ]
  }
 ],
 "metadata": {
  "kernelspec": {
   "display_name": "Python 3.9.13 64-bit",
   "language": "python",
   "name": "python3"
  },
  "language_info": {
   "name": "python",
   "version": "3.9.13"
  },
  "orig_nbformat": 4,
  "vscode": {
   "interpreter": {
    "hash": "3d3579b64ed644892bc49d0da2d1890659408e00eebf25200bc250e1696a02dd"
   }
  }
 },
 "nbformat": 4,
 "nbformat_minor": 2
}
