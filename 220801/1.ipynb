{
 "cells": [
  {
   "cell_type": "markdown",
   "metadata": {},
   "source": [
    "### display\n",
    "\n",
    "웹 페이지에서 사용자에게 보여주는 방식을 설명하는 css 속성\n",
    "인라인/블록 속성 지정 가능\n",
    "\n",
    "- block : 줄바꿈이 일어나게 해주는 속성(한줄 공간을 모두 차지하게 된다.)\n",
    "  - 블록 요소 안에는 inline 요소가 들어갈 수 있다.\n",
    "  - div, ul, ol, li, p\n",
    "\n",
    "- inline : 줄바꿈이 일어나지 않게 해주는 속성(내용의 크기만큼만 공간 차지)\n",
    "  - width, height 이런 속성들 지정 불가능\n",
    "  - 상하 여백을 line-height 속성을 통해 지정할 수 있다.\n",
    "  - span, a, img, input 기타 텍스트 태그\n",
    "\n",
    "- inline-block\n",
    "  - block 특성과 inline 특성을 모두 가지고 있는 속성\n",
    "  - inline처럼 한줄에 표시할 수 있고, block처럼 width, height 이런 속성을 모두 지정 가능\n",
    "\n",
    "- none\n",
    "  - 해당 요소를 화면에 표시하지 않고 차지할 공간조차 부여하지 않는다.\n",
    "  - visibillity : hidden ==> 공간은 차지하나 화면에 표시만 하지 않는다."
   ]
  },
  {
   "cell_type": "markdown",
   "metadata": {},
   "source": [
    "### position\n",
    "\n",
    "문서 내에서 요소의 위치를 지정해주는 CSS 속성\n",
    "position : static, absolute, relative, fixed, sticky\n",
    "\n",
    "-static : 모든 태그의 기본값(기준 위치)\n",
    "  - 일반적인 요소의 배치순서를 따른다. (좌측 상단)\n",
    "  - 부모 요소 안에서 배치될때는 부모 요소의 위치를 기준으로 배치된다.\n",
    "- relative : 부모에 상대적인 위치\n",
    "  - 자기 자신의 static 위치를 기준으로 이동(기본적인 css 위치 흐름을 유지한다.)\n",
    "  - 원래 있어야 할 공간을 차지하고 있다. (보일때만 다름)\n",
    "- absolute : static이 아닌 조상에 대해 상대적인 위치\n",
    "  - 공간을 차지하지 않으며 붕 뜬다. (기본적인 css위치 흐름을 따르지 않는다. z-index??)\n",
    "- fixed : \n",
    "  - 일반적인 CSS위치에서 벗어남.\n",
    "  - 부모요소와 상관 없이 사용자의 화면(Viewport)을 기준으로 이동(스크롤시에도 항상 같은 곳 유지)\n",
    "- sticky\n",
    "  - 원래 자리를 유지하고 있다가 스크롤을 통해 벗어나게 되면 화면(상단/하단)에 달라붙음.(static->fixed)"
   ]
  }
 ],
 "metadata": {
  "kernelspec": {
   "display_name": "Python 3.9.13 64-bit",
   "language": "python",
   "name": "python3"
  },
  "language_info": {
   "name": "python",
   "version": "3.9.13"
  },
  "orig_nbformat": 4,
  "vscode": {
   "interpreter": {
    "hash": "43910bfce8c85d2c0312845aba1e4dcb43cd0e07a2ccc75f0de438d4d0bd280c"
   }
  }
 },
 "nbformat": 4,
 "nbformat_minor": 2
}
