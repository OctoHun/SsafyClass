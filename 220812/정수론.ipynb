{
 "cells": [
  {
   "cell_type": "markdown",
   "metadata": {},
   "source": [
    "### 최소공배수, 최대공약수, 소수\n",
    "\n",
    "- 최소공배수 : 두 수에 서로 공통으로 존재하는 배수(공배수) 중 작은수\n",
    "- 최대공약수 : 두 수에 서로 공통으로 존재하는 약수(공약수) 중 큰수\n",
    "- 소수 : 약수가 1 또는 자기 자신밖에 없는 숫자 (Prime Number)\n",
    "\n",
    "- 최소공배수를 구하는 방법\n",
    "- 최대공약수를 구하는 방법\n",
    "- 소수인지 아닌지 판별하는 방법\n",
    "\n",
    "\n",
    "## 유클리드 호제법\n",
    "\n",
    "- 2개의 자연수 a, b(a>b) 에 대해서 a를 b로 나눈 나머지가 r일때, a와 b의 최대공약수는 b와 r의 최대공약수와 같다. 이 과정을 반복해서 나머지가 0이 되었을때, 이때 나누는 수가 a와 b의 최대공약수이다.\n",
    "\n",
    "- 최소공배수의 성질\n",
    "  - 두 수 a와 b의 최소공배수는 a와 b의 곱을 a와 b의 최대공약수로 나눈것과 같다.\n",
    "\n",
    "```python\n",
    "# Least common multiple : Lcm\n",
    "def lcm(a, b):\n",
    "    return a*b/gcd(a, b)\n",
    "```"
   ]
  },
  {
   "cell_type": "code",
   "execution_count": 4,
   "metadata": {},
   "outputs": [
    {
     "name": "stdout",
     "output_type": "stream",
     "text": [
      "5\n",
      "18\n"
     ]
    }
   ],
   "source": [
    "# 최대 공약수 구하기\n",
    "# gcd : greates common divisor\n",
    "def gcd(a, b): # a > b\n",
    "    r = 0 # 나머지\n",
    "    # a를 나누어 떨어질때까지 나눈다.\n",
    "    while b != 0:\n",
    "        r = a % b\n",
    "        a = b\n",
    "        b = r\n",
    "    return a\n",
    "print(gcd(20, 25))\n",
    "\n",
    "def lcm(a, b):\n",
    "    return a*b//gcd(a, b)\n",
    "print(lcm(6, 9))"
   ]
  },
  {
   "cell_type": "markdown",
   "metadata": {},
   "source": [
    "## 소수 구하는 방법 (소수인지 확인하는 방법)\n",
    "\n",
    "- 1부터 n까지 나누었을때 약수가 1 또는 자기자신밖에 없다면 소수"
   ]
  },
  {
   "cell_type": "code",
   "execution_count": 9,
   "metadata": {},
   "outputs": [
    {
     "name": "stdout",
     "output_type": "stream",
     "text": [
      "True\n"
     ]
    }
   ],
   "source": [
    "# 숫자 n이 소수이면 True, 소수가 아니면 False를 리턴\n",
    "def is_prime(n):\n",
    "    for i in range(2, n):\n",
    "        if n % i == 0:\n",
    "            return False\n",
    "    return True\n",
    "print(is_prime(13))"
   ]
  },
  {
   "cell_type": "markdown",
   "metadata": {},
   "source": [
    "## 에라토스테네스의 체\n",
    "\n",
    "수학자 에라토스테네스가 고안한 방법. 마치 체로 치듯이 수를 걸러낸다고 해서 붙여진 이름이다.\n"
   ]
  },
  {
   "cell_type": "code",
   "execution_count": 11,
   "metadata": {},
   "outputs": [
    {
     "name": "stdout",
     "output_type": "stream",
     "text": [
      "[2, 3, 5, 7, 11, 13, 17, 19, 23, 29, 31, 37, 41, 43, 47, 53, 59, 61, 67, 71, 73, 79, 83, 89, 97]\n"
     ]
    }
   ],
   "source": [
    "def get_prime(n): # n까지의 숫자 중에서 소수를 구한다.\n",
    "    arr = [True] * (n+1) # 일단 n까지의 숫자를 다 소수라고 표시\n",
    "    \n",
    "    m = int((n+1)**0.5) # n까지 전체 검사가 아니라 제곱근까지만 검사해도 된다.\n",
    "    for i in range(2, m+1):\n",
    "        if arr[i]: # 만약 i번째 수가 소수다\n",
    "            #소수의 배수를 모두 소수가 아니라고 체크\n",
    "            for j in range(i+i, n+1, i):\n",
    "                arr[j] = False\n",
    "    return [i for i in range(2, n+1) if arr[i] == True]\n",
    "print(get_prime(100))"
   ]
  },
  {
   "cell_type": "markdown",
   "metadata": {},
   "source": [
    "n까지 다 검사하지 않고, n의 제곱근 까지만 검사해서 최적화\n",
    "\n",
    "제곱근을 쓰는 이유는?\n",
    "- n = a * b로 나타낼 수 있다. n'를 n의 제곱근이라고 하자.\n",
    "- n = n' * n' 여기서 a >= n' 일때, a*b = n'*n' 이므로 b <= n'\n",
    "- n' 까지만 검사를 하면 두 수 a, b 중에 작은수 b까지만 체크를 해봐도 (a는 검사를 안해도) 소수인지 아닌지 판별이 가능하다."
   ]
  }
 ],
 "metadata": {
  "kernelspec": {
   "display_name": "Python 3.9.13 64-bit",
   "language": "python",
   "name": "python3"
  },
  "language_info": {
   "codemirror_mode": {
    "name": "ipython",
    "version": 3
   },
   "file_extension": ".py",
   "mimetype": "text/x-python",
   "name": "python",
   "nbconvert_exporter": "python",
   "pygments_lexer": "ipython3",
   "version": "3.9.13"
  },
  "orig_nbformat": 4,
  "vscode": {
   "interpreter": {
    "hash": "3d3579b64ed644892bc49d0da2d1890659408e00eebf25200bc250e1696a02dd"
   }
  }
 },
 "nbformat": 4,
 "nbformat_minor": 2
}
