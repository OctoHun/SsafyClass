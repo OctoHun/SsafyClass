{
 "cells": [
  {
   "cell_type": "markdown",
   "metadata": {},
   "source": [
    "## Git Advanced\n",
    "\n",
    "### Git undoing\n",
    "- Git 작업 되돌리기(undoing)\n",
    "- Git에서 되돌리기는 작업 상태에 따라 크게 세 가지로 분류\n",
    "    - working Directory 작업 단계\n",
    "    - staging Area 작업 단계\n",
    "    - Repository 작업 단계\n",
    "\n",
    "#### 되돌리기 종류\n",
    "- working Directory에서 수정한 파일 내용을 이전 커밋 상태로 되돌리기(git restore)\n",
    "- staging Area에 반영된 파일을 working directory로 되돌리기(git rm --cached, git restore --staged)\n",
    "- 커밋을 완료한 파일을 staging area로 되돌리기(git commit --amend)\n"
   ]
  },
  {
   "cell_type": "markdown",
   "metadata": {},
   "source": [
    "### working Directory 작업 단계 되돌리기\n",
    "- working directory에서 수정한 파일을 수정 전(직전 커밋)으로 되롤리기\n",
    "- 이미 버전 관리가 되고 있는 파일만 되돌리기 가능\n",
    "- git resotre를 통해 되돌리면 해당 내용을 복원할 수 없으니 주의할 것\n",
    "- git restore {파일 이름}"
   ]
  },
  {
   "cell_type": "markdown",
   "metadata": {},
   "source": [
    "### Stagning Area 작업 단계 되돌리기\n",
    "- Staging Area에 반영된 파일을 Working Directory로 되돌리기(==Unstage)\n",
    "- root-commit 여부에 따라 두 가지 명령어로 나뉨\n",
    "    - root-commit이 없는 경우(깃 저장소가 만들어지고 한 번도 커밋을 하지 않은 경우): git rm --cached {파일이름}\n",
    "    - root-commit이 있는 경우(Git 저장소에 한 개 이상의 커밋이 있는 경우): git restore --staged {파일이름}"
   ]
  },
  {
   "cell_type": "markdown",
   "metadata": {},
   "source": [
    "### Repository 작업 단계 되돌리기\n",
    "- 커밋을 완료한 파일을 Staging Area로 되돌리기\n",
    "- 상황 별 두 가지 기능으로 나뉨\n",
    "    - Staging Area에 새로 올라온 내용이 없다면, 직전 커밋의 메시지만 수정\n",
    "    - Staging Area에 새로 올라온 내용이 있다면, 직전 커밋을 덮어쓰기\n",
    "- 이전 커밋을 완전히 고쳐서 새 커밋으로 변경하므로 이전 커밋은 일어나지 않은 일이 되며 히스토리에도 남지 않음을 주의할 것\n",
    "- git commit --amend\n",
    "    - Vim 간단 사용법\n",
    "    - 입력모드(i): 문서 편집 가능\n",
    "    - 명령어 모드(esc)\n",
    "        - 저장 및 종료(:wq)\n",
    "        - 강제 종료(:q!)"
   ]
  },
  {
   "cell_type": "markdown",
   "metadata": {},
   "source": [
    "## Git reset & revert\n",
    "\n",
    "### Git reset\n",
    "- 프로젝트를 특정 커밋(버전) 상태로 되돌림\n",
    "- 특정 커밋으로 되돌아 갔을 때 해당 커밋 이후로 쌓았던 커밋들은 전부 사라짐\n",
    "- git reset [옵션] {커밋 ID}\n",
    "    - 옵션은 soft, mixed, hard 중 하나를 작성\n",
    "    - 커밋 ID는 되돌아가고 싶은 시점의 커밋 ID를 작성(gir reflog를 통해 ID 확인)\n",
    "- --soft \n",
    "    - 해당 커밋으로 되돌아가고\n",
    "    - 되돌아간 커밋 이후의 파일들은 Staging Area로 돌려놓음(add 한 상태로 돌아감)\n",
    "- --hard\n",
    "    - 해당 커밋으로 되돌아가고\n",
    "    - 되돌아간 커밋 이후의 파일들은 모두 Working Directory에서 삭제 -> 따라서 사용시 주의할 것\n",
    "    - 기존의 Untracked 파일은 사라지지 않고 Untracked로 남아있음(걍 없어짐)\n",
    "- --mixed\n",
    "    - 해당 커밋으로 되돌아가고\n",
    "    - 되돌아간 커밋 이후의 파일들은 Working Directory로 돌려놓음 (add도 안 한 상태)\n",
    "    - git reset 옵션의 기본값\n",
    "\n",
    "### git reflog\n",
    "- git reset의 hard 옵션은 Working Directory 내용까지 삭제하므로 위험 할 수 있음\n",
    "- git reflog 명령어 이용시 reset하기 전의 과거 커밋 내역을 모두 조회 가능\n",
    "- 이후 해당 커밋으로 reset하면 hard 옵션으로 삭제된 파일도 복구 가능\n",
    "\n",
    "### Git revert\n",
    "- 과거를 없었던 일로 만드는 행위로 이전 커밋을 취소한다는 새로운 커밋을 생성함\n",
    "- git revert {커밋 ID}\n",
    "    - 커밋 ID는 취소하고 싶은 커밋 ID를 작성\n",
    "\n",
    "#### reset과 revert 차이점\n",
    "- 개념적 하이\n",
    "    - reset은 커밋 내역을 삭제하는 반면, revert는 새로운 커밋을 생성\n",
    "    - revert는 Github를 이요해 협업할 때, 커밋 내역의 차이로 인한 충돌 방지 가능\n",
    "- 문법적 차이\n",
    "    - git reset 5sd2f42라고 작성하면 5sd2f42라는 커밋으로 되돌린다는 뜻\n",
    "    - git resvert 5sd2f42라고 작성하면 5sd2f42라는 커밋 한 개를 취소한다는 뜻(5sd2f42라는 커밋이 취소되었다는 내용의 새로운 커밋을 생성함)"
   ]
  },
  {
   "cell_type": "markdown",
   "metadata": {},
   "source": [
    "### Git branch\n",
    "- 브랜치는 나뭇가지 라는 뜻으로 여러 갈래로 작업 공간을 나누어 독립적으로 작업할 수 있도록 도와주는 Git의 도구\n",
    "- 장점\n",
    "    1. 브랜치는 독립 공간을 형성하기 때문에 원본(master)에 대해 안전함\n",
    "    2. 하나의 작업은 하나의 브랜치로 나누어 진행되므로 체계적인 개발이 가능함\n",
    "    3. Git은 브랜치는 만드는 속도가 굉장히 빠르고, 적은 용량을 소모함\n",
    "- 조회\n",
    "    - git branch  : 로컬 저장소의 브랜치 목록 확인\n",
    "    - git branch -r : 원격 저장소의 브랜치 목록 확인\n",
    "- 생성\n",
    "    - git branch {브랜치 이름} : 새로운 브랜치 생성\n",
    "    - git branch {브랜치 이름} {커밋 ID} : 특정 커밋 기준으로 브랜치 생성\n",
    "- 삭제\n",
    "    - git branch -d {브랜치 이름} : 병합된 브랜치만 삭제 가능\n",
    "    - git branch -D {브랜치 이름} : 강제 삭제\n",
    "\n",
    "#### Git switch\n",
    "- 현재 브랜치에서 다른 브랜치로 이동하는 명령어\n",
    "- git switch {브랜치 이름} : 다른 브랜치로 이동\n",
    "- git switch -c {브랜치 이름} : 브랜치를 새로 생성 및 이동\n",
    "- git switch -c {브랜치 이름{} {커밋 ID} : 특정 커밋 기준으로 브랜치 생성 및 이동\n",
    "- switch 하기 전에 해당 브랜치의 변경사항을 반드시 커밋해야함을 주의할 것\n",
    "    - 다른 블내치에서 파일을 만들고 커밋하지 않은 상태에서 switch를 하면 브랜치를 이동했음에도 불구하고 해당 파일이 그대로 남아있게 됨\n",
    "\n",
    "#### HEAD\n",
    "- 현재 브랜치를 가리키고 각 블내치는 자신의 최신 커밋을 가리키므로 결국 HEAD가 현재 브랜치의 최신 커밋을 가리킨다고 할 수 있음\n",
    "- git log 혹은 car.git/HEAD를 통해서 현재 HEAD가 어떤 브랜치를 가리키는지 알 수 있음\n",
    "- 결국 git switch는 현재 브랜치에서 다른 브랜치로 HEAD를 이동시키는 명령어"
   ]
  },
  {
   "cell_type": "markdown",
   "metadata": {},
   "source": [
    "### Git merge\n",
    "- 분기된 브랜치들을 하나로 합치는 명령어\n",
    "- master 브랜치가 상용이므로 주로 master브랜치에 병합\n",
    "- git merge {합칠 브랜치 이름}\n",
    "    - 병합하기 전에 브랜치를 합치려고 하는, 즉 메인 브랜치로 switch 해야 함\n",
    "    - 병합에는 세 종류가 존재\n",
    "        1. Fast-Forward\n",
    "        2. 3-way Merge\n",
    "        3. Merge Conflict\n",
    "\n",
    "#### Fast Forwad\n",
    "- 빨리감기처럼 브랜치가 가리키는 커밋을 앞으로 이동시키는 방법\n",
    "- (master) $ git merge hotfix\n",
    "\n",
    "#### 3-way Merge\n",
    "- 각 브랜치의 커밋 두 개와 공통 조상 하나를 사용하여 병합하는 방법\n",
    "- (master) $ git merge hotfix\n",
    "\n",
    "#### Merge Conflict\n",
    "- 두 브랜치에서 같은 부분을 수정한 경우 Git이 어느 브랜치의 내용으로 작성해야 하는지 판단하지 못하여 충돌(conflict)이 발생했을 때 이를 해결하며 병합하는 방법\n",
    "- 보통 같은 파일의 같은 부분을 수정했을 때 자주 발생함\n",
    "\n",
    "#### 충돌이 일어나는 경우\n",
    "- 두 브랜치에서 서로 다른 파일을 수정 후 병합하는 경우 자연스럽게 Merge\n",
    "- 같은 파일의 같은 부분을 수정 후 병합하는 경우 충돌"
   ]
  },
  {
   "cell_type": "markdown",
   "metadata": {},
   "source": [
    "## Git workflow\n",
    "- Branch와 원격 저장소를 이용해 협업을 하는 두 가지 방법\n",
    "    - 원격 저장소 소유권이 있는 경우 -> Shared repository model\n",
    "    - 원격 저장소 소유권이 없는 경우 -> Fork & Pull model\n",
    "\n",
    "### Shared repositry model\n",
    "- 원격 저장소가 자신의 소유이거나 Collaborator로 등록되어 있는 경우\n",
    "- master 브랜치에 직접 개발하는 것이 아니라, 기능별로 브랜치를 따로 만들어 개발\n",
    "- Pull Request를 사용하여 팀원간 변경 내용에 대한 소통 진행\n",
    "\n",
    "### Fork & Pull model\n",
    "- 오픈소스 프로젝트와 같이 자신의 소유가 아닌 원격 저장소인 경우\n",
    "- 원본 원격 저장소를 그대로 내 원격 저장소에 복제(이러한 행위를 Fork라고 함)\n",
    "- 기능 완성 후 복제한 내 원격 저장소에 push\n",
    "- 이후 Pull Request를 통해 원본 원격 저장소에 반영될 수 있도록 요청함"
   ]
  },
  {
   "cell_type": "markdown",
   "metadata": {},
   "source": [
    "### Git 브랜치 전략\n",
    "- gitlab-flow\n",
    "    - github-flow의 배포 이슈를 보완하기 위해 gitlab에서 사용하는 방식\n",
    "    - master 브랜치와 production 브랜치 사이에 pre-production 브랜치를 두어 개발 내뇽을 바로 반영하지 않고 배포 시기를 조절함\n",
    "- github-flow\n",
    "    - 복잡한 git-flow를 개선하여 github에서 사용하는 방식"
   ]
  }
 ],
 "metadata": {
  "language_info": {
   "name": "python"
  },
  "orig_nbformat": 4
 },
 "nbformat": 4,
 "nbformat_minor": 2
}
