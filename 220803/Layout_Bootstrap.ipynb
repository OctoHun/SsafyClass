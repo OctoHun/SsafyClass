{
 "cells": [
  {
   "cell_type": "markdown",
   "metadata": {},
   "source": [
    "### Float\n",
    "\n",
    "박스를 왼쪽 혹은 오른쪽으로 이동시켜 텍스트를 포함한 인라인 요소들이 주변을 wrapping하도록 함.\n",
    "(Float left, Float right)를 쓰면 Normal flow를 벗어남"
   ]
  },
  {
   "cell_type": "markdown",
   "metadata": {},
   "source": [
    "### Flex box\n",
    "\n",
    "행과 열 형태로 아이템들을 배치하는 1차원 레이아웃 모델\n",
    "ie 에서는 원활하지 않을 수 있으므로 다른 브라우저 사용\n",
    "\n",
    "- flex 선언시 하위 요소들은 인라인과 같은 형태의 flex item이 됨(내용물의 크기만큼 공간 차지, 한 줄에 여러개)\n",
    "  - inline-flex : 컨테이너도 인라인과 같이 내부 요소들의 크기마늠의 공간을 차지한다.\n",
    "\n",
    "- flex-direction 기본값 row, row reverse 선택시 오른쪽에서 왼쪽으로 쌓임(왼쪽에 붙어 123 ==> 오른쪽에 붙어 321)\n",
    "  - flex-direction column도 마찬가지 reverse하면 반대로\n",
    "\n",
    "- main axis(요소들 방향) cross axis(main axis의 수직)\n",
    "\n",
    "- 배치 설정\n",
    "  - flex-driection\n",
    "  - flex-wrap\n",
    "    - 아이템이 컨테이너를 벗어나는 경우 해당 영역 내에 배치되도록 설정\n",
    "    - 기본적으로 컨테이너 영역을 벗어나지 않도록 함 (줄바꿈 시켜줌)\n",
    "    - nowrap 설정시 강제로 끼워넣음\n",
    "    - wrap-reverse 설정시 1번이 왼쪽 밑으로, 최신이 오른쪽 위로쌓임\n",
    "  - flex-flow로 한번에 설정 가능(flex-flow: row wrap;)\n",
    "- 공간 나누기\n",
    "  - justify-content(main axis)\n",
    "    - start, end, cneter, space-between, space-around, space-evenly 등 main axis 배치\n",
    "  - align-content(cross axis)\n",
    "    - start, end, center, space-between, space-around, space-evenly 등 cross axis 배치\n",
    "- 정렬\n",
    "  - align-items(모든 아이템을 cross axis 기준으로)\n",
    "    - stretch(늘리기), start, end, center, baseline(글자가 baseline에 배치되는데 이 선을 기준으로)\n",
    "  - align-self(개별 아이템)\n",
    "    - 개별 조정\n",
    "- 기타\n",
    "  - flex-grow\n",
    "    - 남은 여백을 아이템에 분배(비율로)\n",
    "  - order 배치 순서\n",
    "    - 기본 0, 작을수록 앞으로, 클수록 뒤로\n"
   ]
  },
  {
   "cell_type": "markdown",
   "metadata": {},
   "source": [
    "### bootstrap\n",
    "\n",
    "spacing(Margin and padding)\n",
    "css는 전부 만들어져 있기 때문에 class만 추가해주면 된다.\n",
    "- mt-3 ==> margin top 3\n",
    "  - s는 start로 margin-left or padding-left를 의미\n",
    "  - e는 end로 right 의미\n",
    "  - x는 양 옆(left + right)\n",
    "  - y는 위아래(top + botton)\n",
    "  - blank는 4방향 모두"
   ]
  },
  {
   "cell_type": "markdown",
   "metadata": {},
   "source": [
    "### Grid System\n",
    "\n",
    "Bootstrap Grid System\n",
    "container, rows, column으로 컨텐츠를 배치하고 정렬\n",
    "- 12개의 column\n",
    "- 6개의 grid breakpoints\n",
    "\n",
    "```html\n",
    "<div class=\"container\">\n",
    "  <h2 class=\"text-center\">column</h2>\n",
    "  <div class=\"row\">\n",
    "    <div class=\"box col\">1</div>\n",
    "    <div class=\"box col\">2</div>\n",
    "    <div class=\"box col\">3</div>\n",
    "    <div class=\"box col\">4</div>\n",
    "  </div>\n",
    "</div>\n",
    "```\n",
    "\n",
    "12에 맞춰서 동작\n",
    "col-4 식으로 비율 조절 가능하지만 12가 넘어가면 다음줄로 내려간다.\n",
    "\n",
    "class=\"col-sm-8 col-md-4 col-lg-5\"\n",
    "이런식으로 어떤 사이즈일때 비율이 엃게 된다 하는 식으로 설정 가능"
   ]
  }
 ],
 "metadata": {
  "kernelspec": {
   "display_name": "Python 3.9.13 64-bit",
   "language": "python",
   "name": "python3"
  },
  "language_info": {
   "name": "python",
   "version": "3.9.13"
  },
  "orig_nbformat": 4,
  "vscode": {
   "interpreter": {
    "hash": "3d3579b64ed644892bc49d0da2d1890659408e00eebf25200bc250e1696a02dd"
   }
  }
 },
 "nbformat": 4,
 "nbformat_minor": 2
}
