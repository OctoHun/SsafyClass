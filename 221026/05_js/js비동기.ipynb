{
 "cells": [
  {
   "cell_type": "markdown",
   "metadata": {},
   "source": [
    "### 동기와 비동기\n",
    "- 동기: 모든 일을 순서대로 하나씩 처리하는 것.(이전 작업이 끝나야 다음 작업을 시작)\n",
    "    - python 코드가 모두 동기식\n",
    "    - 요청과 응답이 동기식이라면 요청을 보내고 응답이 올때까지 기다렸다가 다음 로직을 처리\n",
    "- 비동기: 결과를 기다리지 않고 다음 작업을 처리하는 것.(병렬적 수행)\n",
    "    - 시간이 필요한 작업들은 요청을 보낸 뒤 응답 순서대로 처리\n",
    "    - 예시) Gmail에서 메일 전송을 누르면 목록 화면으로 전환되지만 메일을 보내는 작업은 병렬적으로 뒤에서 처리됨\n",
    "\n",
    "### 비동기 사용 이유\n",
    "- 사용자 경험\n",
    "- 아주 큰 데이터를 불러온 뒤 실행되는 앱이 있을때 동기식으로 처리한다면 앱이 멈춘 것과 같은 경험을 겪게 됨\n",
    "- 즉, 동기식 처리는 다른 로직 실행을 차단하기 때문에 마치 프로그램이 응답하지 않는 듯한 사용자 경험을 만들게 된다.\n",
    "- 비동기로 처리한다면 먼저 처리되는 부분을 보여주므로 사용자 경험에 긍정적 효과\n",
    "\n",
    "### javascript 비동기 처리\n",
    "- single Thread언어\n",
    "    - 한 번에 하나의 일만 수행할 수 있어서 동시에 여러 작업 불가능\n",
    "    - 즉, 하나의 작업을 요청한 순서대로 처리할 수 밖에 없음.\n",
    "- javascript Runtime\n",
    "    - javascript가 비동기 처리를 할 수 있도록 도와주는 환경(브라우저, node.js)\n",
    "    - 브라우저 환경에서 비동기 동작은 4가지 요소들로 구성\n",
    "        - JavaScript Engine의 call Stack\n",
    "        - wb API\n",
    "        - Task Queue\n",
    "        - Event Loop\n",
    "- 동작 방식\n",
    "    1. 모든 작업은 Call Stack(LIFO)으로 들어간 수 처리\n",
    "    2. 오래 걸리는 작업이 Call Stack으로 들어오면 Web API로 보내서 처리\n",
    "    3. Web API에서 처리가 끝난 작업들은 대기열인 Task Queue(FIFO)에 순서대로 들어간다.\n",
    "    4. Event Loop가 Call Stack이 비어있는것을 체크하고 Task Queue에서 가장 오래된 작업을 Call Stack으로 보냄\n",
    "- settimeout은 해당 초 뒤에 queue로 보내는 것이므로 꼭 해당 초를 보장하지는 않는다.\n",
    "\n"
   ]
  },
  {
   "cell_type": "markdown",
   "metadata": {},
   "source": [
    "### Axios 라이브러리\n",
    "- JavaScript의 HTTP 웹 통신을 위한 라이브러리\n",
    "- 확장 가능하나 인터페이스와 쉽게 사용할 수 있는 비동기 통신 기능을 제공\n",
    "- node에서는 npm을 사용해서 설치 후, browser에서는 CDN을 이용해서 사용\n",
    "- get, post 등 여러 method 사용 가능\n",
    "    - then을 이용해서 성공하면 수행할 로직을 작성\n",
    "    - catch를 이용해서 실패하면 수행할 로직을 작성\n",
    "- 같은 방식으로 우리가 배운 Django REST API로 요청을 보내서 데이터를 받아온 후 처리할 수 있음\n",
    "\n",
    "### Callback과 Promise\n",
    "- 비동기 처리의 핵심은 들어오는 순서가 아닌 작업 완료 순서에 따라 처리한다는 것.\n",
    "- 이는 개발자 입장에서는 단점이다. 실행 결과를 예측할 수 없기 때문.\n",
    "- 이를 해결하기 위한 callback Function 콜백함수\n",
    "\n",
    "### 콜백함수\n",
    "- 특별한 함수가 아니라 다른 함수의 인자로 전달되는 함수를 콜백함수라고 한다.\n",
    "- 비동기에만 사용되는 함수가 아니며 동기, 비동기 상관없이 사용 가능\n",
    "- 시간이 걸리는 비동기 작업이 완료된 후에 실행할 작업을 명시하는데 사용되는 콜백함수를 비동기 콜백이라고 함.\n",
    "- 조건으로 로직을 제어하여 비동기 처리를 순차적으로 동작하게 함. 비동기 처리를 위해서는 콜백 함수의 형태가 반드시 필요함.\n",
    "\n",
    "### 콜백지옥(Callback Hell)\n",
    "- 콜백함수는 연쇄적으로 발생하는 비동기 작업을 순차적으로 동작하게 함.\n",
    "- 코드의 형태가 마치 피라미드와 같아서 'pyramid of doom'(파멸의 피라미드) 라고도 부름\n",
    "- 가독성을 해치고 유지 보수가 어려워짐.\n",
    "\n",
    "### 프로미스(Promise)\n",
    "- Callback Hell문제를 해결하기 위해 등장한 비동기 처리를 위한 객체\n",
    "- '작업이 끝나면 실행시켜줄게' 하는 약속(순서 보장)\n",
    "- 비동기 작업의 완료 또는 실패를 나타내는 객체\n",
    "- promise 기반의 클라이언트가 바로 이전에 사용한 Axios 라이브러리\n",
    "    - 성공에 대한 약속 then(), callback은 이전 작업의 성공 결과를 인자로 전달받음\n",
    "    - 실패에 대한 약속 catch(), callback은 이전 작업의 실패 객체를 인자로 전달받음\n",
    "    - 성공, 실패에 상관없이 실행하는 finally()\n",
    "    - then과 catch는 메서드와 같으며 메서드 앞에 붙는것은 객체이다. 이 객체가 promise 객체\n",
    "- then과 catch모두 항상 promise 객체를 반환. 즉, 계속해서 chaining을 할 수 있음\n",
    "- axios로 처리한 비동기 로직이 항상 promise 객체를 반환. 그래서 then을 계속 이어나가면서 작성할 수 있던 것.\n",
    "- 코드의 형태가 깊어지는 것이 아닌 밑으로 내려가기만 함. 순서를 보장하되 Callback Hell 해결\n",
    "\n",
    "#### Promise가 보장하는것 (VS 비동기 콜백)\n",
    "- 비동기 콜백 작성 스타일과 달리 Promise가 보장하는 특징\n",
    "    1. Callback 함수는 JavaScript의 Event Loop가 현재 실행중인 Call Stack을 완료하기 이전에는 절대 호출되지 않음.\n",
    "        - Promise callback 함수는 Event Queue에 배치되는 엄격한 순서로 호출됨\n",
    "    2. 비동기 작업이 성공하거나 실패한 뒤에 .then() 메서드를 이용하여 추가한 경우에도 1번과 똑같이 동작\n",
    "    3. .then()을 여러번 사용하여 여러개의 callback 함수를 추가할 수 있음(Chaining)\n",
    "        - 각각의 callback은 주어진 순서대로 하나하나 실행됨\n",
    "        - Chaining은 Promise의 가장 뛰어난 장점"
   ]
  }
 ],
 "metadata": {
  "kernelspec": {
   "display_name": "Python 3.9.13 64-bit",
   "language": "python",
   "name": "python3"
  },
  "language_info": {
   "name": "python",
   "version": "3.9.13"
  },
  "orig_nbformat": 4,
  "vscode": {
   "interpreter": {
    "hash": "3d3579b64ed644892bc49d0da2d1890659408e00eebf25200bc250e1696a02dd"
   }
  }
 },
 "nbformat": 4,
 "nbformat_minor": 2
}
