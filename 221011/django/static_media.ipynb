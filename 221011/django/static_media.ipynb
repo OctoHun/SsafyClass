{
 "cells": [
  {
   "cell_type": "markdown",
   "metadata": {},
   "source": [
    "## Managing static fiels\n",
    "- 개발자가 서버에 미리 준비한 파일 혹은 사용자가 업로드한 정적하일을 클라이언트에게 제공하는 방법\n",
    "\n",
    "### 정적파일\n",
    "- 응답할때 별도의 처리 없이 파일 내용을 그대로 보여주면 되는 파일\n",
    "  - 요청에 따라 바뀌는게 아닌 요청한것 그대로 보여주면 되는 파일\n",
    "- 예를 들어 이미지, 자바스크립트, CSS와같은 미리 준비된 파일들\n",
    "- Django에서는 이것들을 staticfiles라고 함\n",
    "\n",
    "### Media File\n",
    "- 미디어 파일\n",
    "- 사용자가 웹에서 업로드하는 정적 파일(user-uploaded)\n",
    "- 유저가 업로드 한 모든 정적 파일"
   ]
  },
  {
   "cell_type": "markdown",
   "metadata": {},
   "source": [
    "## Django에서 정적파일 구성 및 사용\n",
    "1. settings.py에 installed_app에 staticfiles가 있는지 확인(이미 있음)\n",
    "2. settings.py 에서 STATIC_URL을 정의하기(이미 있음)\n",
    "3. 앱의 static 폴더에 정적 파일을 위치하기\n",
    "  - app/static/ 까지가 기본 경로\n",
    "4. 템플릿에서 static 템플릿 태그를 이용하여 지정된 경로에 있는 정적 파일의 URL 만들기\n",
    "``` python\n",
    "{% load static %}\n",
    "<img src=\"{% static 'sample_img.jpg' %}\" alt=\"sampleimage\">\n",
    "``` \n",
    "\n",
    "### load\n",
    "- 특정 라이브러리, 패키지에 등록된 모든 템플릿 태그와 필터를 로드(파이썬의 import와 같은 기능)\n",
    "\n",
    "### static\n",
    "- STATIC_ROOT에 저장된 정적 파일에 연결\n",
    "\n",
    "### Static files 관련 Core Settings\n",
    "- STATIC_ROOT\n",
    "  - DeFault: NOne\n",
    "  - Django 프로젝트에서 사용하는 모든 정적 파일을 한 곳에 모아넣은 절대 경로\n",
    "  - 개발 과정에서 settings.py의 DEBUG 값이 True면 적용되지 않는다.\n",
    "  - 배포 환경(실제)에서는 다른 서버에 의해 실행되기 때문에 실행하는 서버는 Django에 내장되어 있는 파일 인식 못함(내장되어 있는 정적 파일을 밖으로 꺼내는 이유)\n",
    "- STATICFILES_DIRS\n",
    "  - Default: [] (Empty list)\n",
    "  - app/static/ 디렉토리 경로를 사용하는 것(기본경로)외에 추가적인 정적 파일 경로 목록을 정의하는 리스트\n",
    "  - 추가 파일 디렉토리에 대한 전체 경로를 포함하는 문자열 목록으로 작성되어야 함\n",
    "- STATIC_URL\n",
    "  - Detault: None\n",
    "  - STATIC_ROOT에 있는 정적 파일을 참조할때 사용할 URL\n",
    "  - 실제 파일이나 디렉토리가 아니며, URL로만 존재\n",
    "  - 반드시 '/'로 끝나야 함"
   ]
  },
  {
   "cell_type": "markdown",
   "metadata": {},
   "source": [
    "## static file 가져오기\n",
    "- 2가지 방법\n",
    "  1. 기본 경로에 잇는 static file 가져오기(app/static/~)\n",
    "  2. 추가 경로에 있는 static file 가져오기(STATICFILES_DIR의 추가경로)"
   ]
  },
  {
   "cell_type": "markdown",
   "metadata": {},
   "source": [
    "### ImageField()\n",
    "- 이미지 업로드에 사용하는 모델 필드\n",
    "- FileField를 상속받는 서브 클래스이기때문에 FileField의 모든 속성 및 메서드 사용 가능\n",
    "- 유효한 이미지인지 검사\n",
    "- ImageField 인스턴스는 최대 길이가 100자인 문자열로 DB에 생성되며 max_length인자를 사용하여 최대 길이 변경 가능\n",
    "- FileField(upload_to='', storage=None, max_length=100, **options)\n",
    "  - 파일 업로드에 상요하는 모델 필드\n",
    "  - 2개의 선택인자를 가지고 잇음\n",
    "\n",
    "1. settings.py에 MEDIA_ROOT, MEDIA_URL 설정\n",
    "2. upload_to 속성을 정의하여 업로드 된 파일에 사용할 MEDIA_ROOT의 하위 경로를 지정(선택사항)\n",
    "\n",
    "### MEDIA_ROOT\n",
    "- 데이터베이스에 저장되는 것은 파일 경로(절대경로)\n",
    "- STATIC_ROOT와 반드시 다른 경로로 지정해야 함\n",
    "- Default: ''(Empty string)\n",
    "\n",
    "### MEDIA_URL\n",
    "- Default: '' (Empty string)\n",
    "- MEDIA_ROOT에서 제공되는 미디어 파일을 처리하는 URL(/media/)\n",
    "- 업로드 된 파일의 주소(URL)을 만들어주는 역할\n",
    "  - 웹 서버 사용자가 사용하는 public URL\n",
    "- 반드시 '/'로 끝나야 함\n",
    "- STATIC_URL과 반드시 다른 경로로 지정해야 함\n",
    "\n",
    "## 개발단계에서 사용자가 업로드한 미디어 파일 제공하기\n",
    "- urls에 뭔가 더 해줘야 함\n",
    "\n",
    "###  CREATE\n",
    "- blank\n",
    "  - Default: False\n",
    "  - True인 경우 필드를 비워둘 수 있음(DB에는 '' 빈 문자열 저장)\n",
    "  - 유효성 검사에서 사용됨(is_valid)\n",
    "  - 필드에 blank=True가 있으면 form 유효성 검사에서 빈 값 입력 가능\n",
    "- null\n",
    "  - Default: False\n",
    "  - True인 경우 Django는 빈 값을 DB에 NULL로 저장함\n",
    "  - 유효성 검사에는 영향을 미치지 않음.(걸림)\n",
    "  - NULL도 value이다.\n",
    "- 문자열이 저장되므로 빈 값은 빈 문자열이 되어야 한다. 따라서 null이 아닌 blank를 ture로 한다.\n",
    "- 만약 다른 필드(문자열이 아닌 필드)는 NULL이라는 값을 통해 빈 값임을 표현\n",
    "- 빈 값이라는 의미 부여는 한가지만 사용.\n",
    "\n",
    "### pillow\n",
    "- ImageField를 사용하려면 pillow라이브러리가 필요\n",
    "- pillow: 광범위한 파일 형식 지원, 효율적이고 강력한 이미지 처리 기능을 제공하는 라이브러리, 이미지 처리 도구를 위한 견고한 기반을 제공\n",
    "\n",
    "### image upload\n",
    "- 이미지 업로드 하려면 enctype=\"multipart/form-data\"를 폼 태그에 추가해야 함\n",
    "- 기본적으로 문자 인코딩만 제공하므로 파일/이미지 업로드시에 반드시 사용해야 한다.\n",
    "- 또한 파일/이미지는 request의 POST가 아닌 FILES 속성 값에 담겨 넘어감\n",
    "- 같은 이미지 올릴 시 파일 이름 끝에 임의의 난수 값을 붙여 저장한다.\n"
   ]
  },
  {
   "cell_type": "markdown",
   "metadata": {},
   "source": [
    "## READ\n",
    "- src에 url 대신 url 속성을 통해 {{article.image.url}}와 같이 작성한다.\n",
    "- 이미지를 업로드 하지 않은 게시물은 문제가 생기므로 이미지 데이터가 있는 경우에만 출력할 수 있도록 처리 (if)"
   ]
  },
  {
   "cell_type": "markdown",
   "metadata": {},
   "source": [
    "## UPDATE\n",
    "- 이미지는 바이너리 데이터이기 때문에 텍스트처럼 일부만 수정 불가능\n",
    "- 때문에 새로운 사진으로 대체하는 방식 사용\n",
    "\n",
    "1. html에 enctype 추가\n",
    "2. view 함수에서 request.FILES 추가"
   ]
  },
  {
   "cell_type": "markdown",
   "metadata": {},
   "source": [
    "## upload_to\n",
    "- ImageField 업로드 디렉토리와 파일 이름을 설정하는 2가지 방법\n",
    "  1. 문자열 값이나 경로 지정 방법\n",
    "  2. 함수 호출 방법\n",
    "\n",
    "### 문자열 값이나 경로 지정 방법\n",
    "1. models.py에 upload_to='images/' image에 인자 추가\n",
    "2. 단순 문자열 뿐만 아니라 파이썬 time모듈의 strftime() 형식도 포함될 수 있으며, 이는 파일 업로드 날짜/시간으로 대체됨\n",
    "\n",
    "### 함수 호출 방법\n",
    "- upload_to는 독특하게 함수처럼 호출이 가능하며 해당 함수가 호출 되면서 반드시 2개의 인자를 받음\n",
    "  - 첫 번째 인자 instance\n",
    "    - FileField가 정의된 모델의 인스턴스\n",
    "    - 대부분 이 객체는 아직 데이터베이스에 저장되기 전이므로 아직 PK값이 없을 수 있으니 주의\n",
    "  - filename\n",
    "    - 기존 파일 이름"
   ]
  },
  {
   "cell_type": "markdown",
   "metadata": {},
   "source": [
    "## Image Resizing\n",
    "- 실제 원본 이미지를 서버에 그대로 로드 하는 것은 여러 이유로 부담이 큼\n",
    "- html img태그에서 직접 사이즈를 조정할 수도 있지만 업로드될때 이미지 자체를 resizing하는 것을 사용해 볼 것\n",
    "\n",
    "### 사전 준비\n",
    "- django-imagekit 설치\n",
    "  - 썸네일, 해상도, 사이즈, 색깔 등을 조정할 수 있음\n",
    "\n",
    "### 썸네일 만들기\n",
    "- 2가지 방식\n",
    "  - 원본 이미지 저장 X\n",
    "  - 원본 이미지 저장 O\n",
    "- models.py에 이것저것 추가(공식문서를 참고해서 해야함)\n",
    "- 썸네일은 기본적으로 안만들어지지만 출력하고자 할때, 만들어진다.\n",
    "- 즉, 처음에는 원본만 나옴."
   ]
  }
 ],
 "metadata": {
  "kernelspec": {
   "display_name": "Python 3.9.13 ('venv': venv)",
   "language": "python",
   "name": "python3"
  },
  "language_info": {
   "name": "python",
   "version": "3.9.13"
  },
  "orig_nbformat": 4,
  "vscode": {
   "interpreter": {
    "hash": "0cfd73b66da8a2c704f43c8af5cd721d0fee7639c459ca515853e712a8137273"
   }
  }
 },
 "nbformat": 4,
 "nbformat_minor": 2
}
