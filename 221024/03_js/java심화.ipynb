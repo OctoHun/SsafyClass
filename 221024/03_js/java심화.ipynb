{
 "cells": [
  {
   "cell_type": "markdown",
   "metadata": {},
   "source": [
    "### Browser API\n",
    "- 웹 브라우저에 내장된 API로 현재 컴퓨터 환경에 관한 데이터 제공 혹은 복잡한 일 수행 가능하게 함\n",
    "- DOM, Geolocation API(지리 정보), WebGL(그래픽) 등"
   ]
  },
  {
   "cell_type": "markdown",
   "metadata": {},
   "source": [
    "### DOM\n",
    "- 문서 객체 모델(Document OBject Model)\n",
    "- 문서의 구조화된 표현을 제공하며 프로그래밍 언어가 DOM구조에 접근할 수 있는 방법을 제공\n",
    "- 문서의 각 요소들을 객체로 취급하기에 구조, 스타일, 내용, 콘텐츠 등을 동적으로 변경 할 수 있음. HTML/CSS 조작 가능\n",
    "- DOM 메서드 사용시 문서의 논리적 트리에 접근 가능하며 이를 통해 구조나 컨텐츠 변경 가능\n",
    "- 주요 객체 - window, document, navigator, location, history 등\n",
    "\n",
    "### window object\n",
    "- DOM을 표현하는 창\n",
    "- 가장 최상위 객체(작성시 생략 가능)\n",
    "- 탭 기능이 있는 브라우저에서 각각의 탭을 각각의 window 객체로 나타냄\n",
    "- window.open() - 새 탭 작성\n",
    "- window.alert() - 경고 대화 상자 표시\n",
    "- windw\\ow.print() - 인쇄 대화 상자 표시\n",
    "\n",
    "### document object\n",
    "- 브라우저가 불러온 웹 파이지\n",
    "- 페이지 컨텐츠의 진입점 역할을 하며 body 등과 같은 수많은 다른 요소 포함\n",
    "- document.title - 탭의 제목\n",
    "- window.document가 맞지만(window의 속성) 최상위클래스인 window 생략으로 document만 씀\n",
    "\n",
    "### DOM조작\n",
    "- 선택(select) 후 조작(Manipulation)\n",
    "- document.querySelector(selector) - 한 개 선택. 첫 번째 element객체를 반환하며 없다면 null 반환\n",
    "- document.qurySelectorAll(selector) - 여러 element 선택. 유효한 CSS selector를 인자(문자열)로 받음. NodeList 반환(배열과 유사)\n",
    "- document.createElement(tagName) - 작성한 tagName의 HTML 요소를 생성하여 반환\n",
    "- Node.innerText - Node 객체와 그 자손의 텍스트 컨텐츠를 표현(해당 요소 내부의 raw text). 사람이 읽을 수 있는 요소만 남김. 줄바꿈 인식하고 숨겨진 내용을 무시하는등 최종적으로 스타일링이 적용된 모습으로 표현\n",
    "- Node.appendChild() - 한 Node를 특정 부모 Node의 자식 NodeList 중 마지막 자식으로 삽입. 한번에 하나의 Node만 추가 가능. 추가된 객체를 반환. 만약 주어진 Node가 이미 문서에 존재하는 다른 Node를 참조한다면 현재 위치에서 새로운 위치로 이동\n",
    "- Node.removeChild() - DOM에서 자식 Node 제거. 제거된 Node 반환\n",
    "- Element.getAttribute(attributeName) - 해당 요소의 지정된 값(문자열)을 반환. 인자는 값을 얻고자 하는 속성의 이름\n",
    "- Element.setAttribute(name, value) - 지정된 요소의 값을 설정. 속성이 이미 존재하면 값을 갱신, 존재하지 않으면 지정된 이름과 값으로 새 속성 추가\n",
    "\n",
    "#### NodeList\n",
    "- index로만 각 항목에 접근 가능\n",
    "- 배열의 forEach 메서드 및 다양한 배열 메서드 사용 가능\n",
    "querySelectorAll()에 의해 반환되는 NodeList는 DOM의 변경사항을 실시간으로 반영하지 않음. 기본적으로는 실시간 반영.\n"
   ]
  },
  {
   "cell_type": "markdown",
   "metadata": {},
   "source": [
    "### Event\n",
    "- 프로그래밍하고 있는 시스템에서 일어나는 사건(action) 혹은 발생(occurrence)에 응답할 수 있도록 시스템이 말해주는 것\n",
    "- 웹에는 다양한 Event 존재(키보드 키 입력, 브라우저 닫기, 데이터 제출, 텍스트 복사 등)\n",
    "- 특정 매서드 호출로 프로그래밍적으로 만들 수도 있음\n",
    "- DOM 요소는 Event로 받고 수신\n",
    "- 받은 이벤트를 처리할 수 있음. - addEventListener()라는 이벤트 처리기(Event handler)를 사용해 다양한 html 요소에 부착하게 됨\n",
    "\n",
    "### addEventListener()\n",
    "- 대상에 특정 Event가 발생하면 할 일을 등록\n",
    "- EventTraget.addEventListener(type, listener[, options])\n",
    "    - 지정한 Event가 대상에 전달될때마다 호출할 함수 설정\n",
    "    - Event를 지원하는 모든 객체(Element, Document, Window 등)을 대상으로 지정 가능\n",
    "    - type\n",
    "        - 반응할 Event 유형을 나타내는 대소문자 구분 문자열\n",
    "        - input, click, submit 등\n",
    "    - listener\n",
    "        - 지정된 타입의 Event를 수신할 객체\n",
    "        - JavaScript function 객체(콜백 함수)여야 함\n",
    "        - 콜백 함수는 발생한 Event의 데이터를 가진 Event 기반 객체를 유일한 매개변수로 받음"
   ]
  },
  {
   "cell_type": "markdown",
   "metadata": {},
   "source": [
    "### Event 취소\n",
    "- event.preventDefault()\n",
    "    - 현재 Event의 기본 동작을 중단\n",
    "    - HTML 요소의 기본 동작을 작동하지 않게 막음\n",
    "    - HTML 요소의 기본 동작 예시 - a태그(주소 이동), form태그(데이터 전송)\n",
    "\n",
    "\n",
    "### lodash\n",
    "- javascript에서는 다른 언어와는 다르게 없는게 많다. 이걸 위한 lodash CDN"
   ]
  },
  {
   "cell_type": "markdown",
   "metadata": {},
   "source": [
    "### this\n",
    "- 어떠한 obejct를 가리키는 키워드(파이썬에서 self, java에서 this는 인스턴스 자기자신을 가리킴)\n",
    "- JS의 함수는 호출될 떄 this를 암묵적으로 전달 받음\n",
    "- JS의 this는 일반적인 언어에서의 this와 조금 다르게 동작\n",
    "- 호출 방식에 따라 this에 바인딩되는 객체가 달라짐\n",
    "- 즉 함수 선언시가 아닌 어떻게 호출되었는지에 따라 동적으로 결정\n",
    "\n",
    "### this 값\n",
    "- 전역에서 this는 window를 가리킴\n",
    "- 함수에선 호출방식에 따라 다름\n",
    "    - 단순호출 - 전역 객체를 가리킴(전역은 브라우저에서는 window, Node.js에서는 global을 의미함)\n",
    "    - Method(Function in Object, 객체의 메서드로서) - 해당 객체가 바인딩\n",
    "    - Nested(Function 키워드) - function안에 콜백함수에서의 this가 전역객체 window를 가리킴.\n",
    "    - Nested(화살표 함수) - 객체를 잘 가리킴. 화살표 함수에서 this는 자신을 감싼 정적 범위. 자동으로 한단계 상위의 scope의 context를 바인딩\n",
    "- 화살표 함수는 호출의 위치와 상관없이 상위 스코프 가리킴\n",
    "- Lexical scope - 함수를 어디서 호출하는지가 아니라 어디에 선언하였는지에 따라 결정. Static scope 라고도 하며 대부분의 프로그래밍 언어에서 따르는 방식. 따라서 함수 내의 함수 상황에서 화살표 함수를 쓰는 것을 권장\n",
    "- 단, addEventListener에서 콜백함수는 특별하게 호출한 대상(event.target)을 뜻함. 반면 화살표 함수의 경우 상위 스코프를 지칭하기 때문에 window 객체가 바인딩 됨. 따라서 addEventListener의 콜백 함수는 function 키워드를 사용하기"
   ]
  }
 ],
 "metadata": {
  "kernelspec": {
   "display_name": "Python 3.9.13 64-bit",
   "language": "python",
   "name": "python3"
  },
  "language_info": {
   "name": "python",
   "version": "3.9.13"
  },
  "orig_nbformat": 4,
  "vscode": {
   "interpreter": {
    "hash": "3d3579b64ed644892bc49d0da2d1890659408e00eebf25200bc250e1696a02dd"
   }
  }
 },
 "nbformat": 4,
 "nbformat_minor": 2
}
