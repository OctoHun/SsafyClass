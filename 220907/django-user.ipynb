{
 "cells": [
  {
   "cell_type": "markdown",
   "metadata": {},
   "source": [
    "### Django authentication system\n",
    "- 따로 settings에 추가 필요 없음\n",
    "- 이미 들어가있음('django.contrib.auth',)\n",
    "\n",
    "- 인증(Authentication)\n",
    "  - 신원확인\n",
    "  - 사용자가 자신이 누구인지 확인하는 것\n",
    "- 권한(Authorization)\n",
    "  - 권한 부여\n",
    "  - 인증된 사용자가 수행할 수 잇는 작업을 결정\n",
    "\n",
    "- 두 번째 앱으로 처리\n",
    "- accounts -> 회원, 인증\n",
    "\n",
    "- auth와 관련된 경로나 키워드들을 Django 내부적으로 accounts라는 이름으로 사용하고 있기 때문에 되도록 accounts로 지정하는 것을 권장\n",
    "- 다른 이름으로 설정해도 되지만 나중에 추가 설정을 필요로 함.(번거로워짐)\n",
    "\n",
    "\n",
    "### 커스텀 유저 모델로 대체하기\n",
    "- Django는 기본 user model을 필수적으로 custom user model로 대체\n",
    "- 기본 User모델로 충분하더라도 커스텀 하도록 \"강력하게\" 권장\n",
    "- 대체 커스텀은 migration 하기 전에 마쳐야 함\n",
    "- 일부 프로젝트에서는 user-model의 기본 인증 요구사항이 적절하지 않을 수 있음\n",
    "- username 대신 email을 식별로 이용하는 경우 built-in user model에서는 수정하기 쉽지 않다. 따라서 처음부터 커스텀해서 시작하라는 것.\n",
    "\n",
    "- AbstractUser를 상속받는 커스텀 user 클래스 작성\n",
    "- 기존 user도 AbstractUser를 상속받기 때문에 이것만 상속받으면 커스텀할 수 있음\n",
    "\n"
   ]
  }
 ],
 "metadata": {
  "kernelspec": {
   "display_name": "Python 3.10.6 64-bit",
   "language": "python",
   "name": "python3"
  },
  "language_info": {
   "name": "python",
   "version": "3.10.6"
  },
  "orig_nbformat": 4,
  "vscode": {
   "interpreter": {
    "hash": "d79a8ec641e00ab1c8f9b46b4adca275f1636e9bcc63f86bb1d0c586b0b3de27"
   }
  }
 },
 "nbformat": 4,
 "nbformat_minor": 2
}
