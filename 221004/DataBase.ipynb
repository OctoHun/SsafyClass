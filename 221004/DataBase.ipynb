{
 "cells": [
  {
   "cell_type": "markdown",
   "metadata": {},
   "source": [
    "### Database\n",
    "- 현재 RDB라고 부르는 관계형 데이터베이스가 가장 많이 쓰임\n",
    "- Relational Database\n",
    "- RDB는 각각의 데이터를 테이블에 기입함(마치 스프레드 시트에 작성하는 것처럼)\n",
    "- 쉽게 생각하면 스프레드 시트의 모음\n",
    "- 데이터베이스를 조작하기 위한 프로그램 = DBMS\n",
    "\n",
    "### RDB\n",
    "- 자료를 여러 테이블로 나누어 관리하고 이 테이블간 관계를 설정해 여러 데이터를 쉽게 조작할 수 있다는 장점\n",
    "- SQL을 사용하고 데이터를 조회하고 조작\n",
    "- 데이터 직관적, 관련한 각 데이터에 접근 쉬움, 대량의 데이터 효율적 관리 가능\n",
    "\n",
    "### SQL Commeands 종류\n",
    "- DDL: 데이터 정의 언어(테이블과 스키마를 생성, 수정 및 삭제)\n",
    "- DML: 데이터 조작 언어(CRUD)\n",
    "- DCL: 데이터 제어 언어\n",
    "  \n",
    "- statement(문) : 독립적으로 실행할 수 잇는 완전한 코드조각\n",
    "  - clause(절): 문은 절로 구성됨"
   ]
  },
  {
   "cell_type": "markdown",
   "metadata": {},
   "source": [
    "## DDL"
   ]
  },
  {
   "cell_type": "markdown",
   "metadata": {},
   "source": [
    "### Create Table\n",
    "- CREATE TABLE table_name(\n",
    "    colum_1 data_type constraints,  이름, 데이터타입, 제약조건\n",
    "    colum_2 data_type constraints\n",
    "  );\n",
    "- pk는 따로 정의하지 않으면 자동으로 rowid라는 컬럼으로 만들어짐"
   ]
  },
  {
   "cell_type": "markdown",
   "metadata": {},
   "source": [
    "### Data Type\n",
    "- NULL: 정보가 없거나 알 수 없음\n",
    "- INTEGER: 정수, 크기에 따라 0, 1, 2, 3, 4, 6, 8바이트의 가변 크기를 가짐\n",
    "- REAL: 실수, 8바이트의 부동소수점을 사용하는 10진수 값이 있는 실수\n",
    "- TEXT: 문자 데이터\n",
    "- BLOB(BInary Large Object): 입력된 그대로 저장된 데이터 덩어리\n",
    "  - 바이너리 등 멀티미디어 파일(예: 이미지 데이터 등)\n",
    "- 따로 Boolean 없음(0과 1 사용), 날짜 및 시간 타입 없음(Date And Time Functions을 사용하여 text, real, integer 값으로 저장 가능)\n",
    "- Binary Data: 0과 1의 이진 형식으로 인코딩된 파일"
   ]
  },
  {
   "cell_type": "markdown",
   "metadata": {},
   "source": [
    "### SQLite 특징\n",
    "- 동적 타입 시스템으로 좀더 유연함(엄격하지 않음)\n",
    "- 타입 선언 안해도 저장된 값에 따라 데이터 타입이 결정됨\n",
    "- 다만 호환성 문제가 있기 때문에 테이블 생성시 데이터 타입을 지정하는것을 권장\n",
    "- 만약 데이터 타입 지정하면 자동으로 변환하여 저장\n",
    "- 타입 선호도를 통해 알아서 타입 변환(INT -> INTEGER)"
   ]
  },
  {
   "cell_type": "markdown",
   "metadata": {},
   "source": [
    "### Counstraints\n",
    "- 제약조건\n",
    "- 제약에 맞지 않다면 입력이 거부됨\n",
    "- 데이터 무결성을 유지하기 위한 방법\n",
    "  - 데이터 무결성: 내부의 데이터에 대한 정확성, 일관성, 정확성을 보장\n",
    "\n",
    "### 종류\n",
    "- NOT NULL: NULL값을 허용하지 않음. 기본적으로는 NULL허용\n",
    "- UNIQUE: 컬럼의 모든 값이 서로 구별되거나 고유한 값이 되도록 함\n",
    "- PRIMARY KEY: 테이블에서 행의 고유성을 식별하는데 사용\n",
    "  - 각 테이블에는 하나의 기본키만 있음\n",
    "  - 암시적으로 NOT NULL이 제약조건에 포함되어 있음\n",
    "  - INTEGER 타입에만 사용 가능\n",
    "- AUTOINCREMENT: 사용되지 않은 값이나 이전에 삭제된 행의 값의 재사용 방지\n",
    "  - INTEGER PRIMARY KEY 다음에 작성하면 해당 rowid를 다시 재사용하지 못하도록 함\n",
    "  - Django에서 테이블 생성시 id 컬럼에 기본적으로 사용하는 제약조건\n",
    "- rowid의 특징\n",
    "  - 테이블 생성할때마다 rowid라는 암시적 자동 증가 컬럼 생성\n",
    "  - 새 행을 삽입할때마다 1부터 정수값 자동 할당\n",
    "  - 가장 큰 rowid보다 하나 큰 다음순차 정수 할당\n",
    "  - 사라지지 않음. 별도로 선언해도 rowid는 여전히 존재\n",
    "  - 꽉차면 재사용하려고 시도함"
   ]
  },
  {
   "cell_type": "markdown",
   "metadata": {},
   "source": [
    "### ALTER TABLE\n",
    "- 기존 테이블의 구조 수정(변경)\n",
    "  - Rename a table\n",
    "    - ALTER TABLE table_name RENAME TO new_table_name;\n",
    "  - Rename a column\n",
    "    - ALTER TABLE table_name RENAME COLUMN column_name TO new_column_name;\n",
    "  - Add a new column to a table\n",
    "    - ALTER TABLE table_name ADD COLUMN column_definition;\n",
    "  - Delete a column\n",
    "    - ALTER TABLE table_name DROP COLUMN column_name;\n",
    "\n",
    "### 데이터가 있을때\n",
    "- column 추가시 에러 발생\n",
    "- 이전에 이미 저장된 데이터들은 새롭게 추가되는 컬럼에 값이 없기 때문에 NULL이 작성됨\n",
    "- 그런데 새로 추가되는 컬럼에 NOT NULL이 있어서 에러 발생\n",
    "- DEFAULT 제약 조건을 사용해서 해결할 수 있음\n",
    "  - ALTER TABLE new_contacts ADD COLUMN address TEXT NOT NULL DEFAULT 'no address';\n",
    "\n",
    "### 삭제 못하는 경우\n",
    "- 컬럼이 다른 부분에서 참조되는 경우\n",
    "  - FOREGN KEY(외래 키) 제약조건에서 사용되는 경우\n",
    "- PRIMARY KEY인 경우\n",
    "- UNIQUE 제약 조건이 있는 경우"
   ]
  },
  {
   "cell_type": "markdown",
   "metadata": {},
   "source": [
    "### DROP TABLE\n",
    "- DROP DABLE table_name;\n",
    "- 한 번에 하나의 테이블만 삭제 가능\n",
    "- 여러 테이블 제거하려면 여러 DROP RABLE 실행\n",
    "- 실행 취소하거나 복구할 수 없으므로 주의하여 실행"
   ]
  },
  {
   "cell_type": "markdown",
   "metadata": {},
   "source": [
    "## DML\n"
   ]
  },
  {
   "cell_type": "markdown",
   "metadata": {},
   "source": [
    "### DML\n",
    "- CRUD\n",
    "- C:INSERT, R:SELECT, U:UPDATE, D:DELETE"
   ]
  },
  {
   "cell_type": "markdown",
   "metadata": {},
   "source": [
    "### Simple query\n",
    "SELECT 문을 사용하여 간단하게 단일 테이블에서 데이터 조회\n",
    "- SELECT column1, column2 FROM table_name;\n",
    "  - SELECT 절에서 컬럼 또는 쉼표로 구분된 컬럼 목록 지정\n",
    "  - FROM 절에서 데이터 가져올 테이블 지정\n",
    "  - 다양한 절과 함께 사용할 수 있어서 가장 복잡함\n",
    "- *(asterisk)를 통해 모든 컬럼 조회 가능"
   ]
  },
  {
   "cell_type": "markdown",
   "metadata": {},
   "source": [
    "### Sorting rows\n",
    "- ORDER BY절을 이용하여 정렬\n",
    "- SELECT list FROM name ORDER BY column_1 ASC, column_2 DESC;\n",
    "  - FROM절 뒤에 위치함\n",
    "  - 하나 이상의 컬럼을 기준으로 결과를 오름차순, 내림차순 정렬 가능\n",
    "  - 오름차순 기본값\n",
    "- NULL의 정렬시 NULL은 다른 값보다 작은것으로 간주"
   ]
  },
  {
   "cell_type": "markdown",
   "metadata": {},
   "source": [
    "### Filtering data\n",
    "- 데이터를 필터링하여 중복 제거, 조건 설정 등 쿼리 제어\n",
    "- SELECT DISTINCT(중복 제거)\n",
    "  - SELECT DISTINCT select_list FROM table_name\n",
    "  - SELECT 키워드 바로 뒤에 나타나야 함\n",
    "  - DISTINCT 키워드 뒤에 컬럼 또는 컬럼 목록 작성\n",
    "  - DISTINCT 로 두 개의 컬럼을 선택할시 두 컬럼을 하나의 집합으로 보고 중복을 제거한다.(성훈/전라남도 와 오성훈/전라남도 는 중복 아님)\n",
    "  - NULL은 중복으로 간주(NULL 값의 한 행만 보여줌)\n",
    "- WHERE(특정 검색 조건 지정)\n",
    "  - SELECT문 외에도 UPDATE, DELETE문에서 WHERE 절 사용 가능\n",
    "  - FROM절 뒤에 사용\n",
    "  - 논리연산자로 1, 0, NULL 반환\n",
    "  - ALL, AND, ANY, BETWEEN, IN, LIKE, NOT, OR 등\n",
    "  - LIKE: 패턴일치 기반으로 데이터 조회(대소문자 구분 X)\n",
    "    - %: 0개 이상의 문자가 올 수 있음을 의미\n",
    "    - _: 단일(1개)문자가 있음을 의미\n",
    "    - NOT LIKE 가능\n",
    "    - wildcards: 파일 지정시 구체적 이름 대신에 여러 파일을 동시에 지정할 목적으로 상요하는 특수기호\n",
    "  - IN: 값이 값 목록 결과에 있는 값과 일치하는지 확인\n",
    "    - true, false 반환\n",
    "    - NOT IN 가능\n",
    "    - WHERE contry IN ('경기도', '강원도');\n",
    "    - WHERE country = '경기도' OR country = '강원도';\n",
    "  - BETWEEN: 값이 값 범위에 있는지 테스트\n",
    "    - SELECT, DELETE, UPDATE문의 WHERE절에서 사용 가능\n",
    "    - NOT BETWEEN 가능\n",
    "    - WHERE age BETWEEN 20 AND 30;\n",
    "    - WHERE age >= 20 AND age <= 30;\n",
    "  - LIMIT: 반환되는 행 수 제한\n",
    "    - LIMIT 10;\n",
    "    - 10개만 출력\n",
    "  - OFFSET: LIMIT과 함꼐 사용시 특정 지정된 위치부터 데이터 조회 가능\n",
    "    - LIMIT 10 OFFSET 10;\n",
    "    - 11번째부터 20번째 조회 가능\n",
    "- Grouping data\n",
    "  - GROUP BY: 특정 그룹으로 묶인 결과 생성\n",
    "  - 집계함수:aggregate function\n",
    "  - 집계함수를 사용하여 그룹별 추가적인 정보 제공 가능"
   ]
  },
  {
   "cell_type": "markdown",
   "metadata": {},
   "source": [
    "### Changing data\n",
    "- 데이터 삽입, 수정, 삭제"
   ]
  },
  {
   "cell_type": "markdown",
   "metadata": {},
   "source": [
    "### INSERT\n",
    "- INSERT INTO table_name (column1, column2, ...) VALUES (value1, value2, ...);\n",
    "- 모든 컬럼에 값을 지정할거라면 column 목록은 생략 가능\n",
    "### UPDATE\n",
    "- UPDATE table_name SET column_1 = new_value_1, column_2 = new_value_2 WHERE search_condition;\n",
    "- UPDATE 절 이후에 업데이트할 테이블을 지정\n",
    "- WHERE은 선택적이지만 생략하면 모든 행에 있는 데이터를 업데이트함\n",
    "- ORDER BY 및 LIMIT절을 사용하여 업데이트할 행 수를 지정할 수 있음\n",
    "### DELETE\n",
    "- DELEFE FROM table_name WHERE serch_condition;\n",
    "- where절은 선택적이지만 안쓰면 모든 행 삭제\n",
    "- 선택적으로 OREDER BY 및 LIMIT절을 상요해서 삭제할 행 수를 지정 할 수 있음"
   ]
  }
 ],
 "metadata": {
  "kernelspec": {
   "display_name": "Python 3.10.6 64-bit",
   "language": "python",
   "name": "python3"
  },
  "language_info": {
   "name": "python",
   "version": "3.10.6"
  },
  "orig_nbformat": 4,
  "vscode": {
   "interpreter": {
    "hash": "d79a8ec641e00ab1c8f9b46b4adca275f1636e9bcc63f86bb1d0c586b0b3de27"
   }
  }
 },
 "nbformat": 4,
 "nbformat_minor": 2
}
