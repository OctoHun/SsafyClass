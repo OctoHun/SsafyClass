{
 "cells": [
  {
   "cell_type": "markdown",
   "metadata": {},
   "source": [
    "## Vuex\n",
    "\n",
    "### State Management\n",
    "상태란 현재에 대한 정보(data)\n",
    "- 여러개의 component를 조합해서 하나의 app\n",
    "- 각 component는 독립적이기 때문에 각각의 상태(data)를 가짐\n",
    "- 하지만 이러한 component들이 모여 하나의 app을 구성할 예정이므로 여러개의 component가 같은 상태(data)를 유지할 필요가 있음 -> 상태 관리 필요\n",
    "\n",
    "#### Pass Props & Emit Event\n",
    "- 지금까지 우리는 props와 event를 이요해서 상태관리를 하고있었음\n",
    "- 각 컴포넌트는 독립적으로 데이터를 관리하지만 같은 데이터 공유하고 있으므로 동일한 상태 유지중\n",
    "- component의 중첩이 깊어지면 데이터 전달이 쉽지 않음\n",
    "따라서\n",
    "- 중앙 저장소(store)에 데이터를 모아서 상태 관리(Vuex(store))\n",
    "    - 각 컴포넌트는 중앙 조장소의 데이터를 사용\n",
    "    - 컴포넌트 계층에 상관없이 중앙 저장소에 접근해서 데이터 얻거나 변경\n",
    "    - 중앙 저장소의 데이터가 변경되면 각가의 컴포넌트는 해당 데이터의 변화에 반응하여 새로 변경된 데이터를 반영함\n",
    "    - 규모가 크거나 컴포넌트 중첩이 깊은 프로젝트의 관리가 편리\n",
    "\n",
    "#### Vuex\n",
    "- 상태관리 패턴 + 라이브러리\n",
    "- 중앙 저장소를 통해 상태 관리를 할 수 있도로 하는 라이브러리\n",
    "- 데이터가 예측 가능한 방식으로만 변경될 수 있도록 하는 규칙을 설정하며 vue의 반응성을 효율적으로 사용하는 상태 관리 기능을 제공\n",
    "- 플러그인 추가 => vue add vuex\n",
    "- src/store/index.js가 생성됨\n",
    "    - vuex의 핵심 컨셉 4가지\n",
    "        1. state => 중앙저장소의 데이터(상태)\n",
    "        2. getters => computed\n",
    "        3. mutations => methods\n",
    "        4. actions => methods\n",
    "\n",
    "### State\n",
    "- vue 인스턴스의 data에 해당\n",
    "- 중앙에서 관리하는 모든 상태 정보\n",
    "- 개별 컴포넌ㄴ트는 state에서 데이터를 가져와서 사용\n",
    "- state의 데이터 변화시 해당 데이터를 사용(공유)하는 컴포넌트들도 자동으로 다시 렌더링\n",
    "- $store.state로 state 데이터에 접근(바로 접근하기보다 computed에 정의 후 접근하는 것을 권장)\n",
    "\n",
    "#### Mustations\n",
    "- 실제로 state를 변경하는 유일한 방법\n",
    "- vue 인스턴스의 methods에 해당하지만 Mutations에서 호출되는 핸들러(handler)함수는 반드시 동기적이어야 함\n",
    "    - 비동기 로직으로 mutations를 사용해서 state를 변경하는 경우 state의 변화 시기를 특정할 수 없기 때문\n",
    "    - 핸들러 함수: mutations, action에서 호출되는 함수\n",
    "- 첫 번째 인자로 state를 받으며, 컴포넌트 혹은 Actions에서 commit()메서드로 호출됨\n",
    "\n",
    "#### Actions\n",
    "- mutations와 비슷하지만 바동기 작업을 포함할 수 있다는 차이가 있음(외부 API와의 소통 등)\n",
    "- state를 직접 변경하지 않고 commit() 메서드로 mutations를 호출해서 state를 변경함\n",
    "- context 객체를 인자로 받으며 이 객체를 통해 store.js의 모든 요소와 메서드에 접근 가능(즉, state를 직접 변경할 수 있지만 하지 않아야 함)\n",
    "- component에서 dispatch() 메서드에 의해 호출됨\n",
    "\n",
    "#### Getters\n",
    "- vue 인스턴스의 computed에 해당\n",
    "- state를 활용하여 계산된 값을 얻고자 할 때 사용, state의 원본 데이터를 건들지 않고 계산된 값 얻을 수 있음\n",
    "- computed와 마찬가지로 getters의 결과는 캐시(cache)되며, 종속된 값이 변경된 경우에만 재계산됨\n",
    "- getters에서 계산된 값은 state에 영향을 미치지 않음\n",
    "- 첫 번째 인자로 state, 두 번째 인자로 getter를 받음\n"
   ]
  },
  {
   "cell_type": "markdown",
   "metadata": {},
   "source": [
    "## Lifecycle Hooks\n",
    "- 각 vue 인스턴스는 생성과 소멸의 과정 중 단계별 초기화 과정으 ㄹ거침\n",
    "    - vue 인스턴스가 생성된 경우, 인스턴스를 DOM에 마운트 하는 경우, 데이터가 변경되어 DOM을 업데이트 하는 경우 등\n",
    "- 각 단계가 트리거가 되어 특정 로직을 실행 가능"
   ]
  },
  {
   "cell_type": "markdown",
   "metadata": {},
   "source": [
    "## Local Storage\n",
    "- 브라우저의 Local Storage에 todo 데이터를 저장하여 브라우저를 종료하고 다시 실행해도 데이터가 보존될 수 있도록 하기\n",
    "- window.localStorage: 브라우저에서 제공하는 저장공간 중 하나인 Local Storage에 관련된 속성\n",
    "    - 만료되지 않고 브라우저를 종료하고 다시 실행해도 데이터 보존됨\n",
    "    - 데이터가 문자열 형태로 저장됨\n",
    "    - 관련 메서드\n",
    "        - setItem(key, value): key, value 형태로 데이터 저장\n",
    "        - getItem(key): key에 해당하는 데이터 조회\n",
    "    - 데이터가 문자열 형태로 저장되어야 하기 때문에 JSON.stringify를 사용해 문자열로 변환해주는 과정 필요\n",
    "- 자동으로 저장해주는 라이브러리 vuex-persistedstate\n",
    "    - 자동으로 브라우저의 Local Storage에 저장해주는 라이브러리 중 하나\n",
    "    - 페이지 새로고침 되어도 Vuex state를 유지시킴\n",
    "    - Local Storage에 저장된 data를 자동으로 state로 불러옴"
   ]
  }
 ],
 "metadata": {
  "kernelspec": {
   "display_name": "Python 3.9.13 64-bit",
   "language": "python",
   "name": "python3"
  },
  "language_info": {
   "name": "python",
   "version": "3.9.13"
  },
  "orig_nbformat": 4,
  "vscode": {
   "interpreter": {
    "hash": "3d3579b64ed644892bc49d0da2d1890659408e00eebf25200bc250e1696a02dd"
   }
  }
 },
 "nbformat": 4,
 "nbformat_minor": 2
}
