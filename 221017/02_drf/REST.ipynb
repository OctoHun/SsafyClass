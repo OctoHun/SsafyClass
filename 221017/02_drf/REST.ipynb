{
 "cells": [
  {
   "cell_type": "markdown",
   "metadata": {},
   "source": [
    "### Django REST framework - Single Model\n",
    "- serializers.py의 위치나 파일명은 자유롭게 작성 가능\n",
    "- ModelSrializer 클래스는 모델 필드에 해당하는 필드가 있는 Serializer 클래스를 자동으로 만들 수 있는 shortcut 제공\n",
    "  1. Model 정보에 맞춰 자동으로 필드를 생성\n",
    "  2. serializer에 대한 유효성 검사기를 자동으로 생성(is_valid)\n",
    "  3. .create() 및 .update()의 간단한 기본 구현이 포함됨\n",
    "\n",
    "#### ModelSerializer\n",
    "- 단일 객체 인스턴스 대신 QuerySet 또는 객체 목록을 serialize 하려면 many=True를 작성해야 한다.\n",
    "\n",
    "### GET\n",
    "- DRF에서 api_vie 데코레이터 작성은 필수!!!\n",
    "- api_view 기본 GET으로 다른 method로 할시 405 return\n",
    "\n",
    "### POST\n",
    "- 요청에 데이터 생성 서옹시 201 created를 응답, 실패시 400 Bad request 응답\n",
    "- 출력되었을때 어떤 형식으로 출력할거냐에 따라 serializer를 정하면 됨. 상관 없음\n",
    "- retrun 400 대신에 is_valid에 속성값으로 raise_exception=True를 사용해도 됨.\n",
    "\n",
    "### DELETE\n",
    "- 요청에 대한 데이터 삭제 성공시 204 No Content 응답. (명령을 수행했고 더 이상 제공할 정보가 없다.)\n",
    "\n",
    "### PUT\n",
    "- 요청에 대한 데이터 수정이 성공했을 경우 200 OK 상태코드 응답"
   ]
  },
  {
   "cell_type": "markdown",
   "metadata": {},
   "source": [
    "## N:1\n",
    "- N:1 관계에서의 모델 data를 Serialization 하여 JSON으로 변환하는 방법 학습\n",
    "- 외래키에서 save가 이름은 같지만 조금 달라서 commit=False는 없다. 대신 save 안에 추가적인 데이터를 받을 수 있다. .save(article=article)\n",
    "- 다만 is_valid가 먼저여서 article이 들어가기 전에 걸린다. 따라서 is_valid를 읽기전용 필드로 설정하여 유효성 검사에서 제외시키고 데이터 조회시에는 출력하도록 한다.\n",
    "\n",
    "### 역참조 데이터\n",
    "1. 특정 게시글에 작성된 댓글 목록 출력하기\n",
    "2. 특정 게시글에 작성된 댓글의 개수 출력하기\n",
    "\n",
    "#### 댓글 목록 출력\n",
    "- 게시글 조회시 해당 게시글의 댓글 목록까지 함께 출력\n",
    "- Serializer는 기존 필드를 override(덮어쓰기)하거나 추가적인 필드 구성 가능\n",
    "- models.py에서 related_name으로 이름 변경 가능\n",
    "- 단, PrimaryKEyRelatedField는 pk만 보여줌. 세부 내용을 보고싶다면 serializer의 클래스를 사용(상속받기 가능)\n",
    "\n",
    "#### 댓글 개수 출력\n",
    "- 목록 출력은 이미 존재하는 역참조에 덮어씌운거지만 개수 출력은 우리가 연산해서 새로운 필드를 만들어주는 것.\n",
    "- source에 ORM 문법이 들어감\n",
    "- override 혹은 추가한 경우 read_only는 Meta에 쓰면 안됨."
   ]
  },
  {
   "cell_type": "markdown",
   "metadata": {},
   "source": [
    "### Django shortcuts functions\n",
    "- Django shortcuts 패키지는 개발에 도움 될 수 있는 여러 함수와 클래스 제공\n",
    "- render(), redirect(), get_object_or_404(), get_list_or_404() 등\n",
    "- get은 여러개이거나 하나도 없으면 예외 발생으로 500을 발생시킴. 하지만 404를 주는게 맞음.\n",
    "- get_object_or_404는 get을, get_list_or_404는 all을 대체함\n",
    "- 500이라는 원인이 정확하지 않은 에러보다는 서버가 적절한 예외처리를 하고 클라이언트에게 올바른 에러를 전달하는 것 또한 중요한 요소이기 때문에 사용해야 함."
   ]
  },
  {
   "cell_type": "markdown",
   "metadata": {},
   "source": []
  }
 ],
 "metadata": {
  "language_info": {
   "name": "python"
  },
  "orig_nbformat": 4
 },
 "nbformat": 4,
 "nbformat_minor": 2
}
