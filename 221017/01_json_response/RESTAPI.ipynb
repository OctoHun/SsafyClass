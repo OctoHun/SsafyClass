{
 "cells": [
  {
   "cell_type": "markdown",
   "metadata": {},
   "source": [
    "### HTTP\n",
    "- 웹 상에서 컨텐츠를 전송하기 위한 약속\n",
    "- 클라이언트 - 서버 프로토콜\n",
    "- Method로 작업을 나타냄 (GET, POST, PUT, DELETE 등)\n",
    "  - GET: 서버에 리소스의 표현을 요청하며데이터 검색에만 사용\n",
    "  - POST: 데이터를 지정된 리소스에 제출하며 서버의 상태를 변경\n",
    "  - PUT: 요청한 주소의 리소스를 수정\n",
    "  - DELETE: 지정된 리소스를 삭제\n",
    "\n",
    "### Identifying resource on the web\n",
    "- 웹에서 리소스의 식별 방법\n",
    "- 리소스는 문서, 사진 또는 기타 어떤 것이든 될 수 있음\n",
    "- 각 리소스는 식별을 위해 URI로 식별됨\n",
    "\n",
    "#### URI\n",
    "- Uniform Resource Identifier (통합 자원 식별자): 하나의 리소스를 가리키는 문자열\n",
    "- 특정 이름 공간에서 이름으로 리소스로 식별하는 URI인 URN\n",
    "  - URL과 달리 자원의 위치에 영향 안받는 유일한 이름 사용.\n",
    "  - URL의 단점을 극복하기 위해 등장했지만 실제 리소스를 찾는 방법이 보편화되어있지 않아서 대부분 URL 사용\n",
    "- 가장 일반적인 URI가 웹 주소로 알려진 URL\n",
    "  - scheme(or protocol): 브라우저가 어던 규약을 사용하는지 나타냄. https이지만 메일을 열기위한 mailto:나 파일 전송을 위한 ftp: 등 도 존재함\n",
    "  - Authority: scheme 다음으로 ://으로 구분된 권한이 작성됨. 이것들은 domain과 port를 포함하며 둘은 :(콜론)으로 구분된다.\n",
    "    - Domain Name: 요청중인 웹 서버를 나타냄. IP주소를 사용하는것도 가능. 하지만 외우기 어려우므로 Domain Name으로 사용.\n",
    "    - port: 웹 서버의 리소스에 접근하는데 사용되는 기술적인 문(gate). 표준 포트는 HTTP에서 80, HTTPS에서 443이지만 생략 가능. 나머지는 생략 불가능. Django의 경우 8000(80+00)이 기본 포트로 설정.\n",
    "  - path: 웹 서버의 리소스 경로. 초기에는 실제 파일의 물리적 위치를 나타냈지만 오늘날은 추상화된 형태의 구조를 표현.\n",
    "  - parameters: 웹 서버에 제공하는 추가적인 데이터. &으로 그분되는 key-value 쌍 목록.(GET) 서버는 리소스를 응답하기 전에 파라미터를 사용하여 추가 작업 진행 가능.\n",
    "  - anchor: 리소스의 다른 부분에 대한 앵커. 일종의 북마크를 나타내며 브라우저에 해당 북마크 지점에 있는 콘텐츠 표시. 즉, 정확한 부분을 찝어서 그 부분으로 자동 스크롤이 됨. #이후 부분(부분 식별자)는 서버에 전송되지 않음. 브라우저가 그 지점으로 이동하는 것.(서버에 영향 X) 하이퍼링크와 비슷한 기능을 하는 인터넷상의 다른 문서와 연결된 문자 혹은 그림이 될 수 있음.\n"
   ]
  },
  {
   "cell_type": "markdown",
   "metadata": {},
   "source": [
    "## REST API\n",
    "- Application Programming Interface\n",
    "- 애플리케이션과 프로그래밍으로 소통하는 방법. 개발자가 복잡한 기능을 쉽게 만들 수 있도록 언어로 제공되는 구성\n",
    "- 복잡한 코드를 추상화하여 대신 사용가능한 더 쉬운 구문 제공\n",
    "- API는 다양한 타입의 데이터를 응답하지만 대부분 JSON\n",
    "\n",
    "### OPEN API\n",
    "- 개발자라면 누구나 사용할 수 있도록 공개된 API\n",
    "- 개발자에게 사유 응용 소프트웨어나 웹 서비스의 프로그래밍적 권한을 제공\n",
    "\n",
    "### REST\n",
    "- Representational State Transfer\n",
    "- API server를 개발하기 위한 일종의 소프트웨어 설계 방법론\n",
    "- 규약은 아니지만 일종의 암묵적인 룰\n",
    "- REST 원리를 따르는 시스템을 RESTful 하다고 부름\n",
    "- REST의 기본 아이디어는 리소스, 즉 자원\n",
    "  - 자원을 정의하고 자원에 대한 주소를 지정하는 전반적인 방법을 서술\n",
    "\n",
    "### REST에서 자원 정의 및 주소 지정 방법\n",
    "- 자원의 식별(URI)\n",
    "- 자원의 행위(HTTP Method)\n",
    "- 자원의 표현(JSON)\n",
    "\n",
    "### JSON\n",
    "- 파이썬의 dictionary, 자바스크립트의 object처럼 C계열의 언어가 갖고있는 자료구조로 쉽게 변환할 수 있는 key-value 형태의 구조를 갖고 있음\n",
    "- 사람이 읽고 쓰기 쉽고 기계가 파싱(해석&분석)하고 만들어내기 쉽기 때문에 가장 많이 쓰임"
   ]
  },
  {
   "cell_type": "markdown",
   "metadata": {},
   "source": [
    "## Response JSON\n",
    "- JSON 형태로의 서버 응답 변화\n",
    "- 지금까지 Django로 작성한 서버는 사용자에게 html만 응답했지만 다양한 데이터 타입 응답 가능\n",
    "- 서버에서 JSON을 받게 되면 사용자에게 보여질 화면을 구성하는것은 Front-end Framework가 담당할 예정\n",
    "- Front-end Framework는 Vue.js 사용.\n",
    "- Django는 더이상 Template 부분에 대한 역할을 담당하지 않으며 Front와 Back이 분리되어 구성\n",
    "\n",
    "### Response\n",
    "- JsonResponse 사용\n",
    "- Serialization 사용\n",
    "  - 데이터 구조나 객체 상태를 나중에 재구성할 수 있는 포맷으로 변환함.\n",
    "  - 복잡한 데이터를 쉽게 변환할 수 있는데 python 데이터 타입으로 만들어줌\n",
    "- Django REST framework(DRF)\n",
    "  - Django에서 Restful API 서버를 쉽게 구축할 수 있도록 도와주는 오픈소스 라이브러리\n",
    "  - Web API 구축을 위한 강력한 toolkit 제공\n",
    "  - DRF의 serializer는 Django의 From 및 ModelFrom 클래스와 매우 유사하게 작동\n",
    "  - JSON 데이터를 DRF 전용 템플릿으로 응답(json이 출력되는 html을 준 것처럼 보이지만 실제로는 json 데이터를 받은것이 맞음.)"
   ]
  }
 ],
 "metadata": {
  "language_info": {
   "name": "python"
  },
  "orig_nbformat": 4
 },
 "nbformat": 4,
 "nbformat_minor": 2
}
