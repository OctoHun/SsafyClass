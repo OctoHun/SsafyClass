{
 "cells": [
  {
   "cell_type": "markdown",
   "metadata": {},
   "source": [
    "### annotate - 댓글 개수 그때그때 세는게 아니라 annotate로 한 번에 불러옴\n",
    "### select_related - N:1, 1:1에서 참조일때 결과를 줄이는 방법. view함수에서 articles를 불러올때 user도 불러옴\n",
    "### prefetch_related - N:1에서 역참조일때 결과를 줄이는 방법. view함수에서 articles를 불러올때 comment도 불러옴\n",
    "\n",
    "- 섣부른 최적화 하지 말자"
   ]
  }
 ],
 "metadata": {
  "language_info": {
   "name": "python"
  },
  "orig_nbformat": 4
 },
 "nbformat": 4,
 "nbformat_minor": 2
}
