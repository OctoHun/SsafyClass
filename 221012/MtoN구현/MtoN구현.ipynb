{
 "cells": [
  {
   "cell_type": "markdown",
   "metadata": {},
   "source": [
    "## M:N (Article - User)\n",
    "- Article과 User의 M:N 관계 설정을 통한 좋아요 기능 구현하기\n",
    "\n",
    "### LIKE\n",
    "- ManyToManyField 생성\n",
    "  - 단, user에서 참조시 article.user, 역참조시 user.article_set\n",
    "  - like_users 참조시 article.like_users, 역참조시 user.article_set 이므로 충돌!!\n",
    "  - 따라서 related_name으로 역참조시 manage name을 바꾸어 주어야 함. 보통은 M:N쪽을 바꿈\n",
    "- exists()\n",
    "  - QuerySet에 결과가 있다면 True, 없으면 False\n",
    "  - 특히 큰 QuerySet에 있는 특정 개체의 존재와 관련된 검색에 유용\n",
    "  - in보다는 효율적임"
   ]
  },
  {
   "cell_type": "markdown",
   "metadata": {},
   "source": [
    "## M:N (User - User)\n",
    "- User 자기 자신과의 M:N 관계 설정을 통한 팔로우 기능 구현하기\n",
    "\n",
    "### Profile\n",
    "- 팔로우 하기 위한 프로필 페이지 작성\n",
    "\n",
    "### Follow\n",
    "- 모델 관계 설정(accounts/models.py에 추가)\n",
    "- 팔로우 구현"
   ]
  }
 ],
 "metadata": {
  "kernelspec": {
   "display_name": "Python 3.10.6 64-bit",
   "language": "python",
   "name": "python3"
  },
  "language_info": {
   "name": "python",
   "version": "3.10.6"
  },
  "orig_nbformat": 4,
  "vscode": {
   "interpreter": {
    "hash": "d79a8ec641e00ab1c8f9b46b4adca275f1636e9bcc63f86bb1d0c586b0b3de27"
   }
  }
 },
 "nbformat": 4,
 "nbformat_minor": 2
}
