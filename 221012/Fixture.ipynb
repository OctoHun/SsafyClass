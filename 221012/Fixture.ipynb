{
 "cells": [
  {
   "cell_type": "markdown",
   "metadata": {},
   "source": [
    "### Fixtures\n",
    "- Fixtures를 사용해 모델에 초기 데이터 제공하는 방법\n",
    "\n",
    "### 필요성\n",
    "1. 협업하는 a, b가 있는데 a가 먼저 프로젝트 작업후 github에 push 한다.\n",
    "  - gitignore 설정으로 DB는 업로드하지 않기 때문에 A가 개발하며 사용한 데이터는 올라가지 않는다.\n",
    "2. B가 github에서 A가 push한 프로젝트를 pull(혹은 clone)한다.\n",
    "   - 마찬가지로 프로젝트는 받았지만 A가 생성하고 조작한 데이터는 없는 빈 프로젝트를 받는다.\n",
    "- 이처럼 Django 프로젝트 앱을 처음 설정할때 동일하게 준비 된 데이터로 데이터베이스를 미리 채우는 것이 필요할때\n",
    "- Django는 fixrues를 사용해 앱에 초기데이터 제공\n",
    "- 즉, migrations와 fixtures를 사용하여 data와 구조를 공유하게 된다.\n",
    "\n",
    "### Providing data with fixtures\n",
    "- 유저, 게시글, 댓글, 좋아용 등 각 데이터를 최소 2개 이상씩 생성해두기\n",
    "- Django가 데이터베이스로 가져오는 방법을 알고있는 데이터 모음: fixtures\n",
    "  - 가져오는 방법을 알고있다는건 Django가 직접 만들기 때문에 구조에 맞추어 작성 되어있음\n",
    "- fixtures 기본 경로: app_name/fixtures/\n",
    "  - Django는 설치된 모든 app의 디렉토리에서 fixtures폴더 이후의 경로로 fixtures 파일을 찾는다.\n",
    "- 생성(추출): dumpdata\n",
    "  - python manage.py dumpdata --indent 4 app_name.ModelName > filename.json\n",
    "  - '--indent 4' 는 옵션: 들여쓰기\n",
    "  - Django가 맞추어 설정해놓은 것이므로 내부 내용의 틀을 깨뜨리면 안됨. (데이터는 가능)\n",
    "  - 앱 하나의 fixtures 폴더 안에 다 넣어도 됨. 나눌 필요 없음.\n",
    "- 로드(불러오기): loaddata\n",
    "  - python manage.py loaddata 파일경로 파일경로 파일경로...\n",
    "  - 한 번에 할때는 상관없지만 한개씩 따로 할 때에는 순서가 중요할 수 있음(외래키)"
   ]
  }
 ],
 "metadata": {
  "kernelspec": {
   "display_name": "Python 3.9.13 ('venv': venv)",
   "language": "python",
   "name": "python3"
  },
  "language_info": {
   "name": "python",
   "version": "3.9.13"
  },
  "orig_nbformat": 4,
  "vscode": {
   "interpreter": {
    "hash": "e6fdb8e0f3b16fb432d9b7f814c237a9378daf1edcc0a5372be92753b35c43c5"
   }
  }
 },
 "nbformat": 4,
 "nbformat_minor": 2
}
