{
 "cells": [
  {
   "cell_type": "markdown",
   "metadata": {},
   "source": [
    "### django는 MTV(MVC의 변형)\n",
    "M(M): Model - 데이터와 관련된 로직 관리(사용자정보, 영화정보 등)\n",
    "\n",
    "V(T): View - 레이아웃과 화면 처리(T: Template)\n",
    "\n",
    "C(V): Controller - model과 view 제어"
   ]
  },
  {
   "cell_type": "markdown",
   "metadata": {},
   "source": [
    "### 프로젝트에서 앱 상요할땐 installed_apps에 추가해야됨\n",
    "- 반드시 생성 후 등록!\n",
    "- 순서 지키기 Local apps, Third party apps, Django apps\n",
    "- 안지켜도 상관 없지만 추후 대비를 위해 지키도록 권장\n",
    "\n",
    "\n",
    "- project \n",
    "    :앱의 집합\n",
    "\n",
    "- application\n",
    "    : 실제 요청을 처리하고 페이지 보여주는 등의 역할 담당\n",
    "    : 일반적으로 하나의 역할 및 기능 단위로 앱 작성\n",
    "\n",
    "\n",
    "### 명령어\n",
    "- pip install django==3.2.13 (3.2(LTS)버전 명시해서 설치)\n",
    "- pip freeze > requirements.txt (패키지 목록 생성)\n",
    "- django-admin startproject firstpjt . (프로젝트 생성)\n",
    "- python manage.py runserver (서버 실행)\n",
    "- python manage.py startapp articles (어플리케이션(앱) 생성 - 복수형 권장)"
   ]
  },
  {
   "cell_type": "markdown",
   "metadata": {},
   "source": [
    "## 요청과 응답\n",
    "URL -> View -> Template (데이터의 흐름 순서)\n",
    "\n",
    "- render(request(요청정보), template_name(보여줄 화면), context(화면에 포함될 데이터들))"
   ]
  },
  {
   "cell_type": "markdown",
   "metadata": {},
   "source": [
    "## Django Template\n",
    "일반 html이 아닌 django html로 파일 안에서 장고의 기능 사용\n",
    "\n",
    "Django Template Language (DTL)\n",
    "- python처럼 일부 프로그래밍 구조(if, for 등) 사용 가능\n",
    "- 하지만 python 코드로 실행되는것은 아님\n",
    "\n",
    "### variable\n",
    "- {{variable}}\n",
    "- 영어, 숫자, 밑줄 조합 가능, 공백이나 구두점문자 사용 불가\n",
    "- dot(.) 사용하여 변수 속성에 접근 가능\n",
    "- render()의 세 번째 인자로 {'key':value}와 같이 딕셔너리 형태로 넘겨주며 여기서 정의한 key에 해당하는 문자열이 template에서 사용 가능한 변수명이 됨\n",
    "- 변수가 많아질 경우 딕셔너리 안에 딕셔너리를 넣어 한 번에 처리\n",
    "\n",
    "\n",
    "### Filters\n",
    "- {{variable|filter}}\n",
    "- 표시할 변수를 수정할 때 사용\n",
    "- {{variable|lower}} 모두 소문자 출력\n",
    "- 60개의 built-in template filters 제공\n",
    "- chained가 가능하며 일부 필터는 인자를 받기도 함 {{name|truncatewords:30}} : 30단어 넘어가면 생략한다는 의미\n",
    "\n",
    "### Tags\n",
    "- {% tag %}\n",
    "- 출력 텍스트를 만들거나 반복 또는 논리를 수행하여 제어 흐름을 만드는 등 변수보다 복잡한 일들을 수행\n",
    "- 일부 태그는 시작과 종료 태그가 필요 {% if %}{% endif %}\n",
    "- 약 24개의 built-in template tags 제공\n",
    "\n",
    "### Comments\n",
    "- {# #}\n",
    "- Django template에서 라인의 주석을 표현하기 위해 사용\n",
    "- 한 줄 주석에만 사용 가능(줄바꿈 허용 안됨)\n",
    "- 여러 줄 주석은 {% comment %} 주석 {% endcomment %}"
   ]
  },
  {
   "cell_type": "markdown",
   "metadata": {},
   "source": [
    "### 템플릿 상속\n",
    "- 코드의 재사용성\n",
    "- 사이트의 모든 공통요소를 포함하고 하위 탬플릿이 재정의 할 수 있는 블록을 정의하는 기본 skeleton 템플릿을 만들 수 있음\n",
    "### {% extends '' %}\n",
    "- 자식(하위)템플릿이 부모 템플릿을 확장한다는 것을 알림\n",
    "- 반드시 템플릿 최상단에 써야 하며 2개 이상 사용 불가능하다.\n",
    "  \n",
    "### {% block content %}{% endblock content %}\n",
    "- 하위 템플릿에서 재지정할 수 있는 블록 정의\n",
    "- 즉 하위 템플릿이 채울 수 있는 공간\n",
    "- 가독성을 높이기 위해 선택적으로 endblock 태그에 이름 지정 가능\n"
   ]
  },
  {
   "cell_type": "markdown",
   "metadata": {},
   "source": [
    "### 경로 추가하기\n",
    "templates 폴더가 다른곳에 있어도 탐색할 수 있도록\n",
    "settings.py 안에 TEMPLATES의 DIR에 작성\n",
    "\n",
    "- 'DIR' : [BASE_DIR / 'templates',],"
   ]
  },
  {
   "cell_type": "markdown",
   "metadata": {},
   "source": [
    "### 데이터 보내고 가져오기\n",
    "form element 활용\n",
    "- 데이터를 어디(action)로 어떤 방식(method)으로 보낼지\n",
    "- action: 서버 주소\n",
    "- method: GET(주소창에 노출), POST(주소창 노출 X)\n",
    "\n",
    "### input\n",
    "- type에 따라 동작 방식이 달라진다.\n",
    "- 핵심속성 name, 서버에서 input 태그를 식별하는데 사용\n",
    "- GET 방식에서는 URL에서 'key=value&key=balue/' 형식으로 데이터 전달(주소창에 보임)\n",
    "\n",
    "### HTTP request method\n",
    "- 웹에서 이루어지는 모든 데이터 교환의 기초\n",
    "- 자원에 대한 행위(수행하려는 동작)을 정의\n",
    "- 주어진 리소스(자원)에 수행하길 원하는 행동을 나타냄\n",
    "- GET, POST, (PUT, DELETE)\n",
    "\n",
    "### GET\n",
    "- 서버로부터 정보 조회(서버에게 리소스 요청)\n",
    "- 데이터를 가져올 때만 사용해야 한다.\n",
    "- Query String Parameters를 통해 전송 (=데이터는 URL에 포함되어 서버로 보내짐)\n",
    "\n",
    "### Django URLs\n",
    "- Dispatcher(운행 관리원)으로서의 URL 이해하기\n",
    "- 웹 어플리케이션은 URL을 통한 클라이언트의 요청에서부터 시작\n",
    "- Django에서 '/'가 끝에 없다면 자동으로 붙음\n",
    "\n",
    "### Variable routing\n",
    "- URL 주소를 변수로 사용하는 것을 의미\n",
    "- URL의 일부를 변수로 지정하여 view 함수의 인자로 넘길 수 있음\n",
    "- 즉, 변수 값에 따라 하나의 path()에 여러 페이지를 연결 시킬 수 있음\n",
    "- 변수는 <>에 정의\n",
    "- str('/'를 제외한 문자열 - 기본값), int(0 또는 양의 정수), slug, uuid, path\n",
    "- Routing(라우팅) : 어떤 네트워크 안에서 통신 데이터를 보낼 떄 최적의 경로를 선택하는 과정을 뜻함"
   ]
  },
  {
   "cell_type": "markdown",
   "metadata": {},
   "source": [
    "### APP URL mapping\n",
    "- 앱이 많아졌을 때 ruls.py를 각 app에 매핑\n",
    "- app의 view함수 많아지면 path도 많아지고 모두 프로젝트의 urls.py에서 관리하는건 유지보수 힘듬\n",
    "\n",
    "- 경로 맨 앞에 / 가 붙으면 프로젝트의 최상위 경로"
   ]
  },
  {
   "cell_type": "markdown",
   "metadata": {},
   "source": [
    "### Naming URL patterns\n",
    "- 만약 index/의 문자열 주소를 'new-index/'로 바꿔야 할 때 사용 가능\n",
    "- path각각에 name을 주어 쉽게 참조\n",
    "- 이를 통해 URL 설정에 정의된 특정한 경로들의 의존성으 제거할 수 있음\n",
    "- {% url '' %}\n",
    "- 템플릿에 URL을 하드코딩 하지 않고도 DRY 원칙을 위반하지 않으면서 링크 출력"
   ]
  },
  {
   "cell_type": "markdown",
   "metadata": {},
   "source": [
    "### DRY 원칙\n",
    "- Don't Repeat Yourself\n",
    "- 동일한 코드를 반복하지 말자"
   ]
  },
  {
   "cell_type": "markdown",
   "metadata": {},
   "source": [
    "### Namespace\n",
    "- 두 번재 앱으로 이동이 잘 안됨\n",
    "- pages/index로 잘 갔지만 보여지는 화면이 articles/index임\n",
    "\n",
    "### URL Namespacse\n",
    "- name 겹치면 app_name 을 통해 앱 이름을 한 번 더 붙여준다.\n",
    "- 호출할때 {% url 'app_name:urlname' %} 형식으로 호출\n",
    "\n",
    "### Template Namespace\n",
    "- settings의 등록순서대로 templates 파일들을 탐색함\n",
    "- 따라서 물리적인 폴더 생성 후 그 안에 templates 들을 넣음"
   ]
  },
  {
   "cell_type": "markdown",
   "metadata": {},
   "source": [
    "## 오류!\n",
    "- NoReverseMatch 에러시 그 페이지의 url 태그만 확인해보면 됨!!!!!!"
   ]
  }
 ],
 "metadata": {
  "kernelspec": {
   "display_name": "Python 3.9.13 64-bit",
   "language": "python",
   "name": "python3"
  },
  "language_info": {
   "name": "python",
   "version": "3.9.13"
  },
  "orig_nbformat": 4,
  "vscode": {
   "interpreter": {
    "hash": "3d3579b64ed644892bc49d0da2d1890659408e00eebf25200bc250e1696a02dd"
   }
  }
 },
 "nbformat": 4,
 "nbformat_minor": 2
}
