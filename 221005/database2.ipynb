{
 "cells": [
  {
   "cell_type": "markdown",
   "metadata": {},
   "source": [
    "# 다 대 일 관계\n"
   ]
  },
  {
   "cell_type": "markdown",
   "metadata": {},
   "source": [
    "### RDB\n",
    "관계형 데이터베이스, 기본키(pk)와 외래키(fk)를 이용하여 다른 테이블간에 관계 설정"
   ]
  },
  {
   "cell_type": "markdown",
   "metadata": {},
   "source": [
    "## Foreign Key\n",
    "- 관계형 데이터베이스에서 다른 테이블의 행을 식별할 수 있는 키\n",
    "- 참조되는 테이블의 pk를 가리킴\n",
    "- 참조하는 테이블의 행 1개는 참조되는 테이블의 행 값에 대응된다.\n",
    "- 없는 값을 포함할 수 없음\n",
    "- 부모 테이블의 유일한 값을 참조(참조 무결성)\n",
    "- 외래 키의 값이 반드시 부모테이블의 기본키일 필요는 없지만 유일한 값이어야 함"
   ]
  },
  {
   "cell_type": "markdown",
   "metadata": {},
   "source": [
    "## N:1\n",
    "- comment(N) - Article(1)\n",
    "  - comment 모델과 Article 모델 간 관계 설정\n",
    "  - \"0개 이상의 댓글은 1개의 게시글에 작성 될 수 있음\"\n",
    "\n",
    "### 모델 관계 설정\n",
    "- comment 모델에서 Article의 id를 외래키로 가지고 있음\n",
    "- Django에서 1:1  - OneToOneField()\n",
    "- N:1 - ForeignKey()\n",
    "- N:N - ManyToManyField()\n",
    "- 작성 위치는 상관 없이 필드의 마지막에 작성된다.\n",
    "- ForeignKey()클래스의 인스턴스 이름은 참조하는 모델 클래스 이름의 단수형(소문자)로 작성하는것을 권장\n",
    "\n",
    "### ForeignKey(to, on_delete, **options)\n",
    "- Django 모델에서 관계형 데이터베이스의 외래키 속성을 담당\n",
    "- 2개의 필수 위치인자가 필요\n",
    "  - 참조하는 model class\n",
    "  - on_delete 옵션\n",
    "    - 외래키가 참조하는 객체가 사라졌을때 외래키를 가진 객체를 어떻게 처리할 지를 정의\n",
    "    - 데이터 무결성을 위해 중요한 설정\n",
    "    - CASCADE: 부모객체(참조된 객체)가 삭제됐을 때 이를 참조하는 객체도 삭제\n",
    "    - PROTECT, SET_NULL, SET_DEFAULT 등 여러 옵션이 존재함"
   ]
  },
  {
   "cell_type": "markdown",
   "metadata": {},
   "source": [
    "### 역참조\n",
    "- N:1 혹은 M:N관계에서 역으로 1쪽에서 자신을 외래키로 하는 테이블 참조\n",
    "- 본인을 외래키로 참조중인 다른 테이블에 접근하는 것\n",
    "- objects라는 매니저를 통해 queryset api를 사용했던 것처럼 related manager를 통해 queryset api를 사용할 수 있음\n",
    "- _set을 이용\n",
    "- article.comment_set.method()\n",
    "- article 클래스에는 comment와의 어떠한 관계도 작성되지 않았기 때문에 article.comment는 불가능하다.\n",
    "- related_name='원하는이름'으로 역참조시 사용하는 매니저 이름(~_set)을 바꿀 수 있음.\n",
    "  - 작성 후 migration 과정이 필요\n",
    "  - 선택 옵션이지만 나중에 반드시 작성해야 하는 경우가 생김\n",
    "  - 작성 후 다시 원래 코드로 복구"
   ]
  },
  {
   "cell_type": "markdown",
   "metadata": {},
   "source": [
    "## Article(N) - User(1)\n",
    "- 0개 이상의 게시글은 1개의 회원에 의해 작성 될 수 있음\n",
    "- user model은 좀 더 신경써야할게 많다."
   ]
  },
  {
   "cell_type": "markdown",
   "metadata": {},
   "source": [
    "### Django에서 User 모델 참조\n",
    "- settings.AUTH_USER_MODEL\n",
    "- get_user_model()\n",
    "\n",
    "1. settings.AUTH_USER_MODEL\n",
    "   - 반환값:'accounts.USER'(문자열)\n",
    "   - User 모델에 대한 외래키 또는 M:N관계를 정의할때 사용\n",
    "   - models.py의 모델 필드에서 User 모델을 참조할때 사용\n",
    "     - models.py가 가장 먼저 실행되어 아직 user 모델이 없기 때문에 이렇게 씀\n",
    "\n",
    "2. get_user_model()\n",
    "   - models.py가 아닌 다른 모든곳에서 유저 모델을 참조할때 사용\n",
    "   - 반환값: User Object(객체)\n",
    "   - 현재 활성화된 User 모델 반환"
   ]
  },
  {
   "cell_type": "markdown",
   "metadata": {},
   "source": [
    "## Comment(N) - User(1)\n",
    "- 0개 이상의 댓글은 1개의 회원에 의해 작성될 수 있음"
   ]
  }
 ],
 "metadata": {
  "kernelspec": {
   "display_name": "Python 3.10.6 64-bit",
   "language": "python",
   "name": "python3"
  },
  "language_info": {
   "name": "python",
   "version": "3.10.6"
  },
  "orig_nbformat": 4,
  "vscode": {
   "interpreter": {
    "hash": "d79a8ec641e00ab1c8f9b46b4adca275f1636e9bcc63f86bb1d0c586b0b3de27"
   }
  }
 },
 "nbformat": 4,
 "nbformat_minor": 2
}
